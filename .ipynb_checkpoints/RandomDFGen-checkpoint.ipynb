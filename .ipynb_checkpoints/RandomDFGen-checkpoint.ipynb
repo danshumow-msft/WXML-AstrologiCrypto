{
 "cells": [
  {
   "cell_type": "code",
   "execution_count": 1,
   "id": "5b2b51d4",
   "metadata": {},
   "outputs": [],
   "source": [
    "import pandas as pd"
   ]
  },
  {
   "cell_type": "code",
   "execution_count": 5,
   "id": "60cb5809",
   "metadata": {},
   "outputs": [],
   "source": [
    "df1=pd.read_csv('Part1.csv')\n",
    "df2=pd.read_csv('Part2.csv')\n",
    "df3=pd.read_csv('Part3.csv')\n",
    "df4=pd.read_csv('Part4.csv')"
   ]
  },
  {
   "cell_type": "code",
   "execution_count": 6,
   "id": "22c6683c",
   "metadata": {},
   "outputs": [],
   "source": [
    "df=pd.concat([df1,df2,df3,df4])"
   ]
  },
  {
   "cell_type": "code",
   "execution_count": 10,
   "id": "4c5401e1",
   "metadata": {},
   "outputs": [],
   "source": [
    "df.to_csv('RandomDFTraits.csv.gz',index=False, compression='gzip')"
   ]
  },
  {
   "cell_type": "code",
   "execution_count": 9,
   "id": "056f863b",
   "metadata": {},
   "outputs": [
    {
     "data": {
      "text/plain": [
       "(183600, 16)"
      ]
     },
     "execution_count": 9,
     "metadata": {},
     "output_type": "execute_result"
    }
   ],
   "source": [
    "df1.shape"
   ]
  },
  {
   "cell_type": "code",
   "execution_count": 11,
   "id": "0fdb6a45",
   "metadata": {},
   "outputs": [],
   "source": [
    "df_new=pd.read_csv('RandomDfTraits.csv.gz', compression='gzip')"
   ]
  },
  {
   "cell_type": "code",
   "execution_count": 12,
   "id": "c9d338a6",
   "metadata": {},
   "outputs": [
    {
     "data": {
      "text/plain": [
       "(734400, 16)"
      ]
     },
     "execution_count": 12,
     "metadata": {},
     "output_type": "execute_result"
    }
   ],
   "source": [
    "df_new.shape"
   ]
  },
  {
   "cell_type": "code",
   "execution_count": null,
   "id": "c8c1dff7",
   "metadata": {},
   "outputs": [],
   "source": []
  }
 ],
 "metadata": {
  "kernelspec": {
   "display_name": "Python 3 (ipykernel)",
   "language": "python",
   "name": "python3"
  },
  "language_info": {
   "codemirror_mode": {
    "name": "ipython",
    "version": 3
   },
   "file_extension": ".py",
   "mimetype": "text/x-python",
   "name": "python",
   "nbconvert_exporter": "python",
   "pygments_lexer": "ipython3",
   "version": "3.9.13"
  }
 },
 "nbformat": 4,
 "nbformat_minor": 5
}

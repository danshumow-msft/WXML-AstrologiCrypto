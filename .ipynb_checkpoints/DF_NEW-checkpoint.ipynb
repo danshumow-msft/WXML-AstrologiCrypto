{
 "cells": [
  {
   "cell_type": "code",
   "execution_count": 7,
   "id": "8c7e1580",
   "metadata": {},
   "outputs": [],
   "source": [
    "from kerykeion import AstrologicalSubject\n",
    "from datetime import timedelta, date, datetime\n",
    "import numpy as np\n",
    "from scipy.stats import entropy\n",
    "import matplotlib.pyplot as plt\n",
    "import pandas as pd\n",
    "import random"
   ]
  },
  {
   "cell_type": "code",
   "execution_count": 16,
   "id": "1b159b36",
   "metadata": {},
   "outputs": [],
   "source": [
    "translate = {\n",
    "  \"Ari\": 1,\n",
    "  \"Tau\": 2,\n",
    "  \"Gem\": 3,\n",
    "  \"Can\": 4,\n",
    "  \"Leo\": 5,\n",
    "  \"Vir\": 6,\n",
    "  \"Lib\": 7,\n",
    "  \"Sco\": 8,\n",
    "  \"Sag\": 9,\n",
    "  \"Cap\": 10,\n",
    "  \"Aqu\": 11,\n",
    "  \"Pis\": 12\n",
    "}"
   ]
  },
  {
   "cell_type": "code",
   "execution_count": 17,
   "id": "8c9696df",
   "metadata": {},
   "outputs": [],
   "source": [
    "column_names = ['DateTime','Sun','Moon','Mercury','Venus','Mars','Jupiter','Saturn', 'Uranus', 'Neptune', 'Independent1', 'Indpendent2', 'Loosely1','Loosely2', 'Strongly1', 'Strongly2']\n",
    "df = pd.DataFrame(columns=column_names)"
   ]
  },
  {
   "cell_type": "code",
   "execution_count": 25,
   "id": "433213be",
   "metadata": {},
   "outputs": [
    {
     "name": "stderr",
     "output_type": "stream",
     "text": [
      "\n",
      "KeyboardInterrupt\n",
      "\n"
     ]
    }
   ],
   "source": [
    "years=np.arange(1820,1871)\n",
    "for i in years:\n",
    "    start_date = datetime(i,1,1)\n",
    "    for j in range(300):\n",
    "        rand=np.random.randint(0,364)\n",
    "        current=start_date+timedelta(days=rand)\n",
    "        minutes = np.random.randint(60, 1379, 12)\n",
    "        month=current.month\n",
    "        day=current.day\n",
    "        for k in minutes:\n",
    "            hour=k//60\n",
    "            minute=k%60\n",
    "            year=current.year\n",
    "            month=current.month\n",
    "            day=current.day\n",
    "            subject= AstrologicalSubject(\"Subject\", year, month, day, hour, minute, lng=80, lat=13, city=\"Chennai\", nation = \"IN\")\n",
    "            loose1=np.random.uniform(1, 10) ##random double between 1 and 10\n",
    "            loose2= loose1**2 + np.random.normal(0, 10) ## with noise\n",
    "            strong1= random.randint(2, 21)\n",
    "            strong2=2* strong1+ np.random.uniform(0,2)\n",
    "            newEntry={'DateTime': current,\n",
    "                'Sun':translate[subject.sun.sign],\n",
    "                'Moon':translate[subject.moon.sign],\n",
    "                'Mercury':translate[subject.mercury.sign],\n",
    "                'Venus':translate[subject.venus.sign],\n",
    "                'Mars':translate[subject.mars.sign],\n",
    "                'Jupiter':translate[subject.jupiter.sign],\n",
    "                'Saturn':translate[subject.saturn.sign],\n",
    "                'Uranus':translate[subject.uranus.sign],\n",
    "                'Neptune':translate[subject.neptune.sign],\n",
    "                'Independent1': random.random(),\n",
    "                'Indpendent2': random.uniform(0, 5),\n",
    "                'Loosely1': loose1,\n",
    "                'Loosely2': loose2,\n",
    "                'Strongly1': strong1,\n",
    "                'Strongly2':strong2\n",
    "                 }\n",
    "            df = pd.concat([df, pd.DataFrame([newEntry])], ignore_index=True)"
   ]
  },
  {
   "cell_type": "code",
   "execution_count": 24,
   "id": "e6229b3d",
   "metadata": {},
   "outputs": [],
   "source": [
    "df.to_csv('Part1.csv', index=False)"
   ]
  },
  {
   "cell_type": "code",
   "execution_count": 20,
   "id": "ad37b4d7",
   "metadata": {},
   "outputs": [
    {
     "data": {
      "text/plain": [
       "(183600, 16)"
      ]
     },
     "execution_count": 20,
     "metadata": {},
     "output_type": "execute_result"
    }
   ],
   "source": [
    "df.shape"
   ]
  },
  {
   "cell_type": "code",
   "execution_count": null,
   "id": "2ff2d1d9",
   "metadata": {},
   "outputs": [],
   "source": []
  },
  {
   "cell_type": "code",
   "execution_count": null,
   "id": "afcfa75c",
   "metadata": {},
   "outputs": [],
   "source": []
  }
 ],
 "metadata": {
  "kernelspec": {
   "display_name": "Python 3 (ipykernel)",
   "language": "python",
   "name": "python3"
  },
  "language_info": {
   "codemirror_mode": {
    "name": "ipython",
    "version": 3
   },
   "file_extension": ".py",
   "mimetype": "text/x-python",
   "name": "python",
   "nbconvert_exporter": "python",
   "pygments_lexer": "ipython3",
   "version": "3.9.13"
  }
 },
 "nbformat": 4,
 "nbformat_minor": 5
}

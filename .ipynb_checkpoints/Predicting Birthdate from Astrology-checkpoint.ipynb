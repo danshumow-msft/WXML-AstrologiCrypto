{
 "cells": [
  {
   "cell_type": "code",
   "execution_count": 1,
   "id": "53efbe95",
   "metadata": {},
   "outputs": [],
   "source": [
    "import numpy as np\n",
    "from datetime import timedelta, date, datetime\n",
    "import pandas as pd\n"
   ]
  },
  {
   "cell_type": "code",
   "execution_count": 2,
   "id": "e331b6bf",
   "metadata": {},
   "outputs": [],
   "source": [
    "df=pd.read_csv('RandomDFTraits.csv.gz',compression='gzip')"
   ]
  },
  {
   "cell_type": "code",
   "execution_count": 3,
   "id": "50edd541",
   "metadata": {},
   "outputs": [],
   "source": [
    "current=datetime.now()\n",
    "def add_days_birth(row):\n",
    "    date=pd.to_datetime(row['DateTime'])\n",
    "    diff=current-date\n",
    "    return diff.days"
   ]
  },
  {
   "cell_type": "code",
   "execution_count": 4,
   "id": "e7af6e37",
   "metadata": {},
   "outputs": [],
   "source": [
    "df['DaysBirth']=df.apply(lambda row: add_days_birth(row), axis=1)"
   ]
  },
  {
   "cell_type": "code",
   "execution_count": 5,
   "id": "f761b8ce",
   "metadata": {},
   "outputs": [],
   "source": [
    "df.to_csv('RandomDFTraits.csv.gz', compression='gzip')"
   ]
  },
  {
   "cell_type": "code",
   "execution_count": 6,
   "id": "803fb253",
   "metadata": {},
   "outputs": [
    {
     "data": {
      "text/html": [
       "<div>\n",
       "<style scoped>\n",
       "    .dataframe tbody tr th:only-of-type {\n",
       "        vertical-align: middle;\n",
       "    }\n",
       "\n",
       "    .dataframe tbody tr th {\n",
       "        vertical-align: top;\n",
       "    }\n",
       "\n",
       "    .dataframe thead th {\n",
       "        text-align: right;\n",
       "    }\n",
       "</style>\n",
       "<table border=\"1\" class=\"dataframe\">\n",
       "  <thead>\n",
       "    <tr style=\"text-align: right;\">\n",
       "      <th></th>\n",
       "      <th>DateTime</th>\n",
       "      <th>Sun</th>\n",
       "      <th>Moon</th>\n",
       "      <th>Mercury</th>\n",
       "      <th>Venus</th>\n",
       "      <th>Mars</th>\n",
       "      <th>Jupiter</th>\n",
       "      <th>Saturn</th>\n",
       "      <th>Uranus</th>\n",
       "      <th>Neptune</th>\n",
       "      <th>Independent1</th>\n",
       "      <th>Indpendent2</th>\n",
       "      <th>Loosely1</th>\n",
       "      <th>Loosely2</th>\n",
       "      <th>Strongly1</th>\n",
       "      <th>Strongly2</th>\n",
       "      <th>DaysBirth</th>\n",
       "    </tr>\n",
       "  </thead>\n",
       "  <tbody>\n",
       "    <tr>\n",
       "      <th>0</th>\n",
       "      <td>1820-01-01</td>\n",
       "      <td>10</td>\n",
       "      <td>4</td>\n",
       "      <td>9</td>\n",
       "      <td>10</td>\n",
       "      <td>5</td>\n",
       "      <td>11</td>\n",
       "      <td>12</td>\n",
       "      <td>9</td>\n",
       "      <td>9</td>\n",
       "      <td>0.605985</td>\n",
       "      <td>0.786374</td>\n",
       "      <td>6.195561</td>\n",
       "      <td>39.052275</td>\n",
       "      <td>9</td>\n",
       "      <td>19.512277</td>\n",
       "      <td>74650</td>\n",
       "    </tr>\n",
       "    <tr>\n",
       "      <th>1</th>\n",
       "      <td>1820-01-01</td>\n",
       "      <td>10</td>\n",
       "      <td>4</td>\n",
       "      <td>9</td>\n",
       "      <td>10</td>\n",
       "      <td>5</td>\n",
       "      <td>11</td>\n",
       "      <td>12</td>\n",
       "      <td>9</td>\n",
       "      <td>9</td>\n",
       "      <td>0.889940</td>\n",
       "      <td>1.248274</td>\n",
       "      <td>9.706080</td>\n",
       "      <td>94.065416</td>\n",
       "      <td>3</td>\n",
       "      <td>7.446833</td>\n",
       "      <td>74650</td>\n",
       "    </tr>\n",
       "    <tr>\n",
       "      <th>2</th>\n",
       "      <td>1820-01-01</td>\n",
       "      <td>10</td>\n",
       "      <td>4</td>\n",
       "      <td>9</td>\n",
       "      <td>11</td>\n",
       "      <td>5</td>\n",
       "      <td>11</td>\n",
       "      <td>12</td>\n",
       "      <td>9</td>\n",
       "      <td>9</td>\n",
       "      <td>0.934184</td>\n",
       "      <td>2.686550</td>\n",
       "      <td>4.039443</td>\n",
       "      <td>9.062088</td>\n",
       "      <td>5</td>\n",
       "      <td>11.724304</td>\n",
       "      <td>74650</td>\n",
       "    </tr>\n",
       "    <tr>\n",
       "      <th>3</th>\n",
       "      <td>1820-01-01</td>\n",
       "      <td>10</td>\n",
       "      <td>4</td>\n",
       "      <td>9</td>\n",
       "      <td>11</td>\n",
       "      <td>5</td>\n",
       "      <td>11</td>\n",
       "      <td>12</td>\n",
       "      <td>9</td>\n",
       "      <td>9</td>\n",
       "      <td>0.327426</td>\n",
       "      <td>4.438963</td>\n",
       "      <td>3.914944</td>\n",
       "      <td>-1.209793</td>\n",
       "      <td>7</td>\n",
       "      <td>15.782803</td>\n",
       "      <td>74650</td>\n",
       "    </tr>\n",
       "    <tr>\n",
       "      <th>4</th>\n",
       "      <td>1820-01-01</td>\n",
       "      <td>10</td>\n",
       "      <td>4</td>\n",
       "      <td>9</td>\n",
       "      <td>11</td>\n",
       "      <td>5</td>\n",
       "      <td>11</td>\n",
       "      <td>12</td>\n",
       "      <td>9</td>\n",
       "      <td>9</td>\n",
       "      <td>0.086337</td>\n",
       "      <td>3.508798</td>\n",
       "      <td>8.693338</td>\n",
       "      <td>74.190890</td>\n",
       "      <td>6</td>\n",
       "      <td>13.214151</td>\n",
       "      <td>74650</td>\n",
       "    </tr>\n",
       "  </tbody>\n",
       "</table>\n",
       "</div>"
      ],
      "text/plain": [
       "     DateTime  Sun  Moon  Mercury  Venus  Mars  Jupiter  Saturn  Uranus  \\\n",
       "0  1820-01-01   10     4        9     10     5       11      12       9   \n",
       "1  1820-01-01   10     4        9     10     5       11      12       9   \n",
       "2  1820-01-01   10     4        9     11     5       11      12       9   \n",
       "3  1820-01-01   10     4        9     11     5       11      12       9   \n",
       "4  1820-01-01   10     4        9     11     5       11      12       9   \n",
       "\n",
       "   Neptune  Independent1  Indpendent2  Loosely1   Loosely2  Strongly1  \\\n",
       "0        9      0.605985     0.786374  6.195561  39.052275          9   \n",
       "1        9      0.889940     1.248274  9.706080  94.065416          3   \n",
       "2        9      0.934184     2.686550  4.039443   9.062088          5   \n",
       "3        9      0.327426     4.438963  3.914944  -1.209793          7   \n",
       "4        9      0.086337     3.508798  8.693338  74.190890          6   \n",
       "\n",
       "   Strongly2  DaysBirth  \n",
       "0  19.512277      74650  \n",
       "1   7.446833      74650  \n",
       "2  11.724304      74650  \n",
       "3  15.782803      74650  \n",
       "4  13.214151      74650  "
      ]
     },
     "execution_count": 6,
     "metadata": {},
     "output_type": "execute_result"
    }
   ],
   "source": [
    "df.head()"
   ]
  },
  {
   "cell_type": "code",
   "execution_count": 7,
   "id": "6ea28fd8",
   "metadata": {},
   "outputs": [],
   "source": [
    "from sklearn.tree import DecisionTreeRegressor\n",
    "from sklearn.model_selection import train_test_split, GridSearchCV\n",
    "from sklearn.metrics import mean_squared_error\n"
   ]
  },
  {
   "cell_type": "markdown",
   "id": "2c66dbb5",
   "metadata": {},
   "source": [
    "## Predicting from all planets"
   ]
  },
  {
   "cell_type": "code",
   "execution_count": 16,
   "id": "5c246c59",
   "metadata": {},
   "outputs": [],
   "source": [
    "X=df[['Sun','Moon','Mercury','Venus','Mars','Jupiter','Saturn','Uranus','Neptune']]\n",
    "y=df['DaysBirth']\n",
    "X_train, X_test, y_train, y_test = train_test_split(X, y, test_size=0.25)\n",
    "reg=DecisionTreeRegressor(max_depth=16).fit(X_train,y_train)"
   ]
  },
  {
   "cell_type": "code",
   "execution_count": 17,
   "id": "54b283d4",
   "metadata": {},
   "outputs": [
    {
     "data": {
      "text/plain": [
       "4.765919972522525"
      ]
     },
     "execution_count": 17,
     "metadata": {},
     "output_type": "execute_result"
    }
   ],
   "source": [
    "mean_squared_error(y_test,reg.predict(X_test))"
   ]
  },
  {
   "cell_type": "code",
   "execution_count": 18,
   "id": "11fce370",
   "metadata": {},
   "outputs": [
    {
     "data": {
      "text/plain": [
       "4.694620597589843"
      ]
     },
     "execution_count": 18,
     "metadata": {},
     "output_type": "execute_result"
    }
   ],
   "source": [
    "mean_squared_error(y_train,reg.predict(X_train))"
   ]
  },
  {
   "cell_type": "code",
   "execution_count": 19,
   "id": "bd8d4c14",
   "metadata": {},
   "outputs": [
    {
     "data": {
      "text/plain": [
       "array([2.44312699e-06, 3.92671331e-08, 2.61514513e-06, 3.59972864e-06,\n",
       "       2.41167168e-05, 3.00342425e-02, 1.85723599e-01, 4.60720561e-01,\n",
       "       3.23488783e-01])"
      ]
     },
     "execution_count": 19,
     "metadata": {},
     "output_type": "execute_result"
    }
   ],
   "source": [
    "reg.feature_importances_"
   ]
  },
  {
   "cell_type": "markdown",
   "id": "cca9e909",
   "metadata": {},
   "source": [
    "## Hyper Parameter Tuning"
   ]
  },
  {
   "cell_type": "code",
   "execution_count": 20,
   "id": "1be7e6bc",
   "metadata": {},
   "outputs": [],
   "source": [
    "##Hyper parameter tuning\n",
    "param_grid = {\n",
    "    'max_depth': np.arange(10,20),\n",
    "    'min_samples_split': [2, 5, 10],\n",
    "    'min_samples_leaf': [1, 2, 4],\n",
    "    'max_features': [ '1.0', 'sqrt', 'log2']\n",
    "}"
   ]
  },
  {
   "cell_type": "code",
   "execution_count": 21,
   "id": "849be17c",
   "metadata": {},
   "outputs": [
    {
     "ename": "KeyboardInterrupt",
     "evalue": "",
     "output_type": "error",
     "traceback": [
      "\u001b[1;31m---------------------------------------------------------------------------\u001b[0m",
      "\u001b[1;31mKeyboardInterrupt\u001b[0m                         Traceback (most recent call last)",
      "File \u001b[1;32m~\\anaconda3\\Lib\\site-packages\\joblib\\parallel.py:975\u001b[0m, in \u001b[0;36mParallel.retrieve\u001b[1;34m(self)\u001b[0m\n\u001b[0;32m    974\u001b[0m \u001b[38;5;28;01mif\u001b[39;00m \u001b[38;5;28mgetattr\u001b[39m(\u001b[38;5;28mself\u001b[39m\u001b[38;5;241m.\u001b[39m_backend, \u001b[38;5;124m'\u001b[39m\u001b[38;5;124msupports_timeout\u001b[39m\u001b[38;5;124m'\u001b[39m, \u001b[38;5;28;01mFalse\u001b[39;00m):\n\u001b[1;32m--> 975\u001b[0m     \u001b[38;5;28mself\u001b[39m\u001b[38;5;241m.\u001b[39m_output\u001b[38;5;241m.\u001b[39mextend(job\u001b[38;5;241m.\u001b[39mget(timeout\u001b[38;5;241m=\u001b[39m\u001b[38;5;28mself\u001b[39m\u001b[38;5;241m.\u001b[39mtimeout))\n\u001b[0;32m    976\u001b[0m \u001b[38;5;28;01melse\u001b[39;00m:\n",
      "File \u001b[1;32m~\\anaconda3\\Lib\\site-packages\\joblib\\_parallel_backends.py:567\u001b[0m, in \u001b[0;36mLokyBackend.wrap_future_result\u001b[1;34m(future, timeout)\u001b[0m\n\u001b[0;32m    566\u001b[0m \u001b[38;5;28;01mtry\u001b[39;00m:\n\u001b[1;32m--> 567\u001b[0m     \u001b[38;5;28;01mreturn\u001b[39;00m future\u001b[38;5;241m.\u001b[39mresult(timeout\u001b[38;5;241m=\u001b[39mtimeout)\n\u001b[0;32m    568\u001b[0m \u001b[38;5;28;01mexcept\u001b[39;00m CfTimeoutError \u001b[38;5;28;01mas\u001b[39;00m e:\n",
      "File \u001b[1;32m~\\anaconda3\\Lib\\concurrent\\futures\\_base.py:451\u001b[0m, in \u001b[0;36mFuture.result\u001b[1;34m(self, timeout)\u001b[0m\n\u001b[0;32m    449\u001b[0m     \u001b[38;5;28;01mreturn\u001b[39;00m \u001b[38;5;28mself\u001b[39m\u001b[38;5;241m.\u001b[39m__get_result()\n\u001b[1;32m--> 451\u001b[0m \u001b[38;5;28mself\u001b[39m\u001b[38;5;241m.\u001b[39m_condition\u001b[38;5;241m.\u001b[39mwait(timeout)\n\u001b[0;32m    453\u001b[0m \u001b[38;5;28;01mif\u001b[39;00m \u001b[38;5;28mself\u001b[39m\u001b[38;5;241m.\u001b[39m_state \u001b[38;5;129;01min\u001b[39;00m [CANCELLED, CANCELLED_AND_NOTIFIED]:\n",
      "File \u001b[1;32m~\\anaconda3\\Lib\\threading.py:327\u001b[0m, in \u001b[0;36mCondition.wait\u001b[1;34m(self, timeout)\u001b[0m\n\u001b[0;32m    326\u001b[0m \u001b[38;5;28;01mif\u001b[39;00m timeout \u001b[38;5;129;01mis\u001b[39;00m \u001b[38;5;28;01mNone\u001b[39;00m:\n\u001b[1;32m--> 327\u001b[0m     waiter\u001b[38;5;241m.\u001b[39macquire()\n\u001b[0;32m    328\u001b[0m     gotit \u001b[38;5;241m=\u001b[39m \u001b[38;5;28;01mTrue\u001b[39;00m\n",
      "\u001b[1;31mKeyboardInterrupt\u001b[0m: ",
      "\nDuring handling of the above exception, another exception occurred:\n",
      "\u001b[1;31mKeyboardInterrupt\u001b[0m                         Traceback (most recent call last)",
      "Cell \u001b[1;32mIn[21], line 3\u001b[0m\n\u001b[0;32m      1\u001b[0m model\u001b[38;5;241m=\u001b[39mDecisionTreeRegressor()\n\u001b[0;32m      2\u001b[0m tuned_model \u001b[38;5;241m=\u001b[39m GridSearchCV(estimator\u001b[38;5;241m=\u001b[39mmodel, param_grid\u001b[38;5;241m=\u001b[39mparam_grid, cv\u001b[38;5;241m=\u001b[39m\u001b[38;5;241m5\u001b[39m, scoring\u001b[38;5;241m=\u001b[39m\u001b[38;5;124m'\u001b[39m\u001b[38;5;124mneg_mean_squared_error\u001b[39m\u001b[38;5;124m'\u001b[39m, n_jobs\u001b[38;5;241m=\u001b[39m\u001b[38;5;241m-\u001b[39m\u001b[38;5;241m1\u001b[39m)\n\u001b[1;32m----> 3\u001b[0m tuned_model\u001b[38;5;241m.\u001b[39mfit(X_train,y_train)\n",
      "File \u001b[1;32m~\\anaconda3\\Lib\\site-packages\\sklearn\\model_selection\\_search.py:874\u001b[0m, in \u001b[0;36mBaseSearchCV.fit\u001b[1;34m(self, X, y, groups, **fit_params)\u001b[0m\n\u001b[0;32m    868\u001b[0m     results \u001b[38;5;241m=\u001b[39m \u001b[38;5;28mself\u001b[39m\u001b[38;5;241m.\u001b[39m_format_results(\n\u001b[0;32m    869\u001b[0m         all_candidate_params, n_splits, all_out, all_more_results\n\u001b[0;32m    870\u001b[0m     )\n\u001b[0;32m    872\u001b[0m     \u001b[38;5;28;01mreturn\u001b[39;00m results\n\u001b[1;32m--> 874\u001b[0m \u001b[38;5;28mself\u001b[39m\u001b[38;5;241m.\u001b[39m_run_search(evaluate_candidates)\n\u001b[0;32m    876\u001b[0m \u001b[38;5;66;03m# multimetric is determined here because in the case of a callable\u001b[39;00m\n\u001b[0;32m    877\u001b[0m \u001b[38;5;66;03m# self.scoring the return type is only known after calling\u001b[39;00m\n\u001b[0;32m    878\u001b[0m first_test_score \u001b[38;5;241m=\u001b[39m all_out[\u001b[38;5;241m0\u001b[39m][\u001b[38;5;124m\"\u001b[39m\u001b[38;5;124mtest_scores\u001b[39m\u001b[38;5;124m\"\u001b[39m]\n",
      "File \u001b[1;32m~\\anaconda3\\Lib\\site-packages\\sklearn\\model_selection\\_search.py:1388\u001b[0m, in \u001b[0;36mGridSearchCV._run_search\u001b[1;34m(self, evaluate_candidates)\u001b[0m\n\u001b[0;32m   1386\u001b[0m \u001b[38;5;28;01mdef\u001b[39;00m \u001b[38;5;21m_run_search\u001b[39m(\u001b[38;5;28mself\u001b[39m, evaluate_candidates):\n\u001b[0;32m   1387\u001b[0m \u001b[38;5;250m    \u001b[39m\u001b[38;5;124;03m\"\"\"Search all candidates in param_grid\"\"\"\u001b[39;00m\n\u001b[1;32m-> 1388\u001b[0m     evaluate_candidates(ParameterGrid(\u001b[38;5;28mself\u001b[39m\u001b[38;5;241m.\u001b[39mparam_grid))\n",
      "File \u001b[1;32m~\\anaconda3\\Lib\\site-packages\\sklearn\\model_selection\\_search.py:821\u001b[0m, in \u001b[0;36mBaseSearchCV.fit.<locals>.evaluate_candidates\u001b[1;34m(candidate_params, cv, more_results)\u001b[0m\n\u001b[0;32m    813\u001b[0m \u001b[38;5;28;01mif\u001b[39;00m \u001b[38;5;28mself\u001b[39m\u001b[38;5;241m.\u001b[39mverbose \u001b[38;5;241m>\u001b[39m \u001b[38;5;241m0\u001b[39m:\n\u001b[0;32m    814\u001b[0m     \u001b[38;5;28mprint\u001b[39m(\n\u001b[0;32m    815\u001b[0m         \u001b[38;5;124m\"\u001b[39m\u001b[38;5;124mFitting \u001b[39m\u001b[38;5;132;01m{0}\u001b[39;00m\u001b[38;5;124m folds for each of \u001b[39m\u001b[38;5;132;01m{1}\u001b[39;00m\u001b[38;5;124m candidates,\u001b[39m\u001b[38;5;124m\"\u001b[39m\n\u001b[0;32m    816\u001b[0m         \u001b[38;5;124m\"\u001b[39m\u001b[38;5;124m totalling \u001b[39m\u001b[38;5;132;01m{2}\u001b[39;00m\u001b[38;5;124m fits\u001b[39m\u001b[38;5;124m\"\u001b[39m\u001b[38;5;241m.\u001b[39mformat(\n\u001b[0;32m    817\u001b[0m             n_splits, n_candidates, n_candidates \u001b[38;5;241m*\u001b[39m n_splits\n\u001b[0;32m    818\u001b[0m         )\n\u001b[0;32m    819\u001b[0m     )\n\u001b[1;32m--> 821\u001b[0m out \u001b[38;5;241m=\u001b[39m parallel(\n\u001b[0;32m    822\u001b[0m     delayed(_fit_and_score)(\n\u001b[0;32m    823\u001b[0m         clone(base_estimator),\n\u001b[0;32m    824\u001b[0m         X,\n\u001b[0;32m    825\u001b[0m         y,\n\u001b[0;32m    826\u001b[0m         train\u001b[38;5;241m=\u001b[39mtrain,\n\u001b[0;32m    827\u001b[0m         test\u001b[38;5;241m=\u001b[39mtest,\n\u001b[0;32m    828\u001b[0m         parameters\u001b[38;5;241m=\u001b[39mparameters,\n\u001b[0;32m    829\u001b[0m         split_progress\u001b[38;5;241m=\u001b[39m(split_idx, n_splits),\n\u001b[0;32m    830\u001b[0m         candidate_progress\u001b[38;5;241m=\u001b[39m(cand_idx, n_candidates),\n\u001b[0;32m    831\u001b[0m         \u001b[38;5;241m*\u001b[39m\u001b[38;5;241m*\u001b[39mfit_and_score_kwargs,\n\u001b[0;32m    832\u001b[0m     )\n\u001b[0;32m    833\u001b[0m     \u001b[38;5;28;01mfor\u001b[39;00m (cand_idx, parameters), (split_idx, (train, test)) \u001b[38;5;129;01min\u001b[39;00m product(\n\u001b[0;32m    834\u001b[0m         \u001b[38;5;28menumerate\u001b[39m(candidate_params), \u001b[38;5;28menumerate\u001b[39m(cv\u001b[38;5;241m.\u001b[39msplit(X, y, groups))\n\u001b[0;32m    835\u001b[0m     )\n\u001b[0;32m    836\u001b[0m )\n\u001b[0;32m    838\u001b[0m \u001b[38;5;28;01mif\u001b[39;00m \u001b[38;5;28mlen\u001b[39m(out) \u001b[38;5;241m<\u001b[39m \u001b[38;5;241m1\u001b[39m:\n\u001b[0;32m    839\u001b[0m     \u001b[38;5;28;01mraise\u001b[39;00m \u001b[38;5;167;01mValueError\u001b[39;00m(\n\u001b[0;32m    840\u001b[0m         \u001b[38;5;124m\"\u001b[39m\u001b[38;5;124mNo fits were performed. \u001b[39m\u001b[38;5;124m\"\u001b[39m\n\u001b[0;32m    841\u001b[0m         \u001b[38;5;124m\"\u001b[39m\u001b[38;5;124mWas the CV iterator empty? \u001b[39m\u001b[38;5;124m\"\u001b[39m\n\u001b[0;32m    842\u001b[0m         \u001b[38;5;124m\"\u001b[39m\u001b[38;5;124mWere there no candidates?\u001b[39m\u001b[38;5;124m\"\u001b[39m\n\u001b[0;32m    843\u001b[0m     )\n",
      "File \u001b[1;32m~\\anaconda3\\Lib\\site-packages\\sklearn\\utils\\parallel.py:63\u001b[0m, in \u001b[0;36mParallel.__call__\u001b[1;34m(self, iterable)\u001b[0m\n\u001b[0;32m     58\u001b[0m config \u001b[38;5;241m=\u001b[39m get_config()\n\u001b[0;32m     59\u001b[0m iterable_with_config \u001b[38;5;241m=\u001b[39m (\n\u001b[0;32m     60\u001b[0m     (_with_config(delayed_func, config), args, kwargs)\n\u001b[0;32m     61\u001b[0m     \u001b[38;5;28;01mfor\u001b[39;00m delayed_func, args, kwargs \u001b[38;5;129;01min\u001b[39;00m iterable\n\u001b[0;32m     62\u001b[0m )\n\u001b[1;32m---> 63\u001b[0m \u001b[38;5;28;01mreturn\u001b[39;00m \u001b[38;5;28msuper\u001b[39m()\u001b[38;5;241m.\u001b[39m\u001b[38;5;21m__call__\u001b[39m(iterable_with_config)\n",
      "File \u001b[1;32m~\\anaconda3\\Lib\\site-packages\\joblib\\parallel.py:1098\u001b[0m, in \u001b[0;36mParallel.__call__\u001b[1;34m(self, iterable)\u001b[0m\n\u001b[0;32m   1095\u001b[0m     \u001b[38;5;28mself\u001b[39m\u001b[38;5;241m.\u001b[39m_iterating \u001b[38;5;241m=\u001b[39m \u001b[38;5;28;01mFalse\u001b[39;00m\n\u001b[0;32m   1097\u001b[0m \u001b[38;5;28;01mwith\u001b[39;00m \u001b[38;5;28mself\u001b[39m\u001b[38;5;241m.\u001b[39m_backend\u001b[38;5;241m.\u001b[39mretrieval_context():\n\u001b[1;32m-> 1098\u001b[0m     \u001b[38;5;28mself\u001b[39m\u001b[38;5;241m.\u001b[39mretrieve()\n\u001b[0;32m   1099\u001b[0m \u001b[38;5;66;03m# Make sure that we get a last message telling us we are done\u001b[39;00m\n\u001b[0;32m   1100\u001b[0m elapsed_time \u001b[38;5;241m=\u001b[39m time\u001b[38;5;241m.\u001b[39mtime() \u001b[38;5;241m-\u001b[39m \u001b[38;5;28mself\u001b[39m\u001b[38;5;241m.\u001b[39m_start_time\n",
      "File \u001b[1;32m~\\anaconda3\\Lib\\site-packages\\joblib\\parallel.py:997\u001b[0m, in \u001b[0;36mParallel.retrieve\u001b[1;34m(self)\u001b[0m\n\u001b[0;32m    991\u001b[0m \u001b[38;5;28;01mif\u001b[39;00m (backend \u001b[38;5;129;01mis\u001b[39;00m \u001b[38;5;129;01mnot\u001b[39;00m \u001b[38;5;28;01mNone\u001b[39;00m \u001b[38;5;129;01mand\u001b[39;00m\n\u001b[0;32m    992\u001b[0m         \u001b[38;5;28mhasattr\u001b[39m(backend, \u001b[38;5;124m'\u001b[39m\u001b[38;5;124mabort_everything\u001b[39m\u001b[38;5;124m'\u001b[39m)):\n\u001b[0;32m    993\u001b[0m     \u001b[38;5;66;03m# If the backend is managed externally we need to make sure\u001b[39;00m\n\u001b[0;32m    994\u001b[0m     \u001b[38;5;66;03m# to leave it in a working state to allow for future jobs\u001b[39;00m\n\u001b[0;32m    995\u001b[0m     \u001b[38;5;66;03m# scheduling.\u001b[39;00m\n\u001b[0;32m    996\u001b[0m     ensure_ready \u001b[38;5;241m=\u001b[39m \u001b[38;5;28mself\u001b[39m\u001b[38;5;241m.\u001b[39m_managed_backend\n\u001b[1;32m--> 997\u001b[0m     backend\u001b[38;5;241m.\u001b[39mabort_everything(ensure_ready\u001b[38;5;241m=\u001b[39mensure_ready)\n\u001b[0;32m    998\u001b[0m \u001b[38;5;28;01mraise\u001b[39;00m\n",
      "File \u001b[1;32m~\\anaconda3\\Lib\\site-packages\\joblib\\_parallel_backends.py:586\u001b[0m, in \u001b[0;36mLokyBackend.abort_everything\u001b[1;34m(self, ensure_ready)\u001b[0m\n\u001b[0;32m    583\u001b[0m \u001b[38;5;28;01mdef\u001b[39;00m \u001b[38;5;21mabort_everything\u001b[39m(\u001b[38;5;28mself\u001b[39m, ensure_ready\u001b[38;5;241m=\u001b[39m\u001b[38;5;28;01mTrue\u001b[39;00m):\n\u001b[0;32m    584\u001b[0m \u001b[38;5;250m    \u001b[39m\u001b[38;5;124;03m\"\"\"Shutdown the workers and restart a new one with the same parameters\u001b[39;00m\n\u001b[0;32m    585\u001b[0m \u001b[38;5;124;03m    \"\"\"\u001b[39;00m\n\u001b[1;32m--> 586\u001b[0m     \u001b[38;5;28mself\u001b[39m\u001b[38;5;241m.\u001b[39m_workers\u001b[38;5;241m.\u001b[39mterminate(kill_workers\u001b[38;5;241m=\u001b[39m\u001b[38;5;28;01mTrue\u001b[39;00m)\n\u001b[0;32m    587\u001b[0m     \u001b[38;5;28mself\u001b[39m\u001b[38;5;241m.\u001b[39m_workers \u001b[38;5;241m=\u001b[39m \u001b[38;5;28;01mNone\u001b[39;00m\n\u001b[0;32m    589\u001b[0m     \u001b[38;5;28;01mif\u001b[39;00m ensure_ready:\n",
      "File \u001b[1;32m~\\anaconda3\\Lib\\site-packages\\joblib\\executor.py:87\u001b[0m, in \u001b[0;36mMemmappingExecutor.terminate\u001b[1;34m(self, kill_workers)\u001b[0m\n\u001b[0;32m     85\u001b[0m     \u001b[38;5;28;01mwith\u001b[39;00m \u001b[38;5;28mself\u001b[39m\u001b[38;5;241m.\u001b[39m_submit_resize_lock:\n\u001b[0;32m     86\u001b[0m         \u001b[38;5;28mself\u001b[39m\u001b[38;5;241m.\u001b[39m_temp_folder_manager\u001b[38;5;241m.\u001b[39m_unregister_temporary_resources()\n\u001b[1;32m---> 87\u001b[0m         \u001b[38;5;28mself\u001b[39m\u001b[38;5;241m.\u001b[39m_temp_folder_manager\u001b[38;5;241m.\u001b[39m_try_delete_folder(\n\u001b[0;32m     88\u001b[0m             allow_non_empty\u001b[38;5;241m=\u001b[39m\u001b[38;5;28;01mTrue\u001b[39;00m\n\u001b[0;32m     89\u001b[0m         )\n\u001b[0;32m     90\u001b[0m \u001b[38;5;28;01melse\u001b[39;00m:\n\u001b[0;32m     91\u001b[0m     \u001b[38;5;28mself\u001b[39m\u001b[38;5;241m.\u001b[39m_temp_folder_manager\u001b[38;5;241m.\u001b[39m_unlink_temporary_resources()\n",
      "File \u001b[1;32m~\\anaconda3\\Lib\\site-packages\\joblib\\_memmapping_reducer.py:652\u001b[0m, in \u001b[0;36mTemporaryResourcesManager._try_delete_folder\u001b[1;34m(self, allow_non_empty, context_id)\u001b[0m\n\u001b[0;32m    649\u001b[0m \u001b[38;5;28;01mif\u001b[39;00m context_id \u001b[38;5;129;01mis\u001b[39;00m \u001b[38;5;28;01mNone\u001b[39;00m:\n\u001b[0;32m    650\u001b[0m     \u001b[38;5;66;03m# ditto\u001b[39;00m\n\u001b[0;32m    651\u001b[0m     \u001b[38;5;28;01mfor\u001b[39;00m context_id \u001b[38;5;129;01min\u001b[39;00m \u001b[38;5;28mself\u001b[39m\u001b[38;5;241m.\u001b[39m_cached_temp_folders\u001b[38;5;241m.\u001b[39mcopy():\n\u001b[1;32m--> 652\u001b[0m         \u001b[38;5;28mself\u001b[39m\u001b[38;5;241m.\u001b[39m_try_delete_folder(\n\u001b[0;32m    653\u001b[0m             allow_non_empty\u001b[38;5;241m=\u001b[39mallow_non_empty, context_id\u001b[38;5;241m=\u001b[39mcontext_id\n\u001b[0;32m    654\u001b[0m         )\n\u001b[0;32m    655\u001b[0m \u001b[38;5;28;01melse\u001b[39;00m:\n\u001b[0;32m    656\u001b[0m     temp_folder \u001b[38;5;241m=\u001b[39m \u001b[38;5;28mself\u001b[39m\u001b[38;5;241m.\u001b[39m_cached_temp_folders[context_id]\n",
      "File \u001b[1;32m~\\anaconda3\\Lib\\site-packages\\joblib\\_memmapping_reducer.py:658\u001b[0m, in \u001b[0;36mTemporaryResourcesManager._try_delete_folder\u001b[1;34m(self, allow_non_empty, context_id)\u001b[0m\n\u001b[0;32m    656\u001b[0m temp_folder \u001b[38;5;241m=\u001b[39m \u001b[38;5;28mself\u001b[39m\u001b[38;5;241m.\u001b[39m_cached_temp_folders[context_id]\n\u001b[0;32m    657\u001b[0m \u001b[38;5;28;01mtry\u001b[39;00m:\n\u001b[1;32m--> 658\u001b[0m     delete_folder(\n\u001b[0;32m    659\u001b[0m         temp_folder, allow_non_empty\u001b[38;5;241m=\u001b[39mallow_non_empty\n\u001b[0;32m    660\u001b[0m     )\n\u001b[0;32m    661\u001b[0m     \u001b[38;5;66;03m# Now that this folder is deleted, we can forget about it\u001b[39;00m\n\u001b[0;32m    662\u001b[0m     \u001b[38;5;28mself\u001b[39m\u001b[38;5;241m.\u001b[39m_unregister_context(context_id)\n",
      "File \u001b[1;32m~\\anaconda3\\Lib\\site-packages\\joblib\\disk.py:118\u001b[0m, in \u001b[0;36mdelete_folder\u001b[1;34m(folder_path, onerror, allow_non_empty)\u001b[0m\n\u001b[0;32m    116\u001b[0m \u001b[38;5;28;01mtry\u001b[39;00m:\n\u001b[0;32m    117\u001b[0m     \u001b[38;5;28;01mif\u001b[39;00m \u001b[38;5;28mlen\u001b[39m(files) \u001b[38;5;241m==\u001b[39m \u001b[38;5;241m0\u001b[39m \u001b[38;5;129;01mor\u001b[39;00m allow_non_empty:\n\u001b[1;32m--> 118\u001b[0m         shutil\u001b[38;5;241m.\u001b[39mrmtree(\n\u001b[0;32m    119\u001b[0m             folder_path, ignore_errors\u001b[38;5;241m=\u001b[39m\u001b[38;5;28;01mFalse\u001b[39;00m, onerror\u001b[38;5;241m=\u001b[39m\u001b[38;5;28;01mNone\u001b[39;00m\n\u001b[0;32m    120\u001b[0m         )\n\u001b[0;32m    121\u001b[0m         util\u001b[38;5;241m.\u001b[39mdebug(\n\u001b[0;32m    122\u001b[0m             \u001b[38;5;124m\"\u001b[39m\u001b[38;5;124mSuccessfully deleted \u001b[39m\u001b[38;5;132;01m{}\u001b[39;00m\u001b[38;5;124m\"\u001b[39m\u001b[38;5;241m.\u001b[39mformat(folder_path))\n\u001b[0;32m    123\u001b[0m         \u001b[38;5;28;01mbreak\u001b[39;00m\n",
      "File \u001b[1;32m~\\anaconda3\\Lib\\shutil.py:759\u001b[0m, in \u001b[0;36mrmtree\u001b[1;34m(path, ignore_errors, onerror, dir_fd)\u001b[0m\n\u001b[0;32m    757\u001b[0m     \u001b[38;5;66;03m# can't continue even if onerror hook returns\u001b[39;00m\n\u001b[0;32m    758\u001b[0m     \u001b[38;5;28;01mreturn\u001b[39;00m\n\u001b[1;32m--> 759\u001b[0m \u001b[38;5;28;01mreturn\u001b[39;00m _rmtree_unsafe(path, onerror)\n",
      "File \u001b[1;32m~\\anaconda3\\Lib\\shutil.py:620\u001b[0m, in \u001b[0;36m_rmtree_unsafe\u001b[1;34m(path, onerror)\u001b[0m\n\u001b[0;32m    618\u001b[0m \u001b[38;5;28;01melse\u001b[39;00m:\n\u001b[0;32m    619\u001b[0m     \u001b[38;5;28;01mtry\u001b[39;00m:\n\u001b[1;32m--> 620\u001b[0m         os\u001b[38;5;241m.\u001b[39munlink(fullname)\n\u001b[0;32m    621\u001b[0m     \u001b[38;5;28;01mexcept\u001b[39;00m \u001b[38;5;167;01mOSError\u001b[39;00m:\n\u001b[0;32m    622\u001b[0m         onerror(os\u001b[38;5;241m.\u001b[39munlink, fullname, sys\u001b[38;5;241m.\u001b[39mexc_info())\n",
      "\u001b[1;31mKeyboardInterrupt\u001b[0m: "
     ]
    }
   ],
   "source": [
    "model=DecisionTreeRegressor()\n",
    "tuned_model = GridSearchCV(estimator=model, param_grid=param_grid, cv=5, scoring='neg_mean_squared_error', n_jobs=-1)\n",
    "tuned_model.fit(X_train,y_train)\n"
   ]
  },
  {
   "cell_type": "code",
   "execution_count": null,
   "id": "1f3634a8",
   "metadata": {},
   "outputs": [],
   "source": [
    "best_params = tuned_model.best_params_\n",
    "best_score = tuned_model.best_score_"
   ]
  },
  {
   "cell_type": "code",
   "execution_count": null,
   "id": "d10e49cf",
   "metadata": {},
   "outputs": [],
   "source": [
    "best_model = tuned_model.best_estimator_\n",
    "mean_squared_error(y_test,best_model.predict(X_test))"
   ]
  },
  {
   "cell_type": "code",
   "execution_count": null,
   "id": "9e3a8b7b",
   "metadata": {},
   "outputs": [],
   "source": [
    "print(best_params)"
   ]
  },
  {
   "cell_type": "markdown",
   "id": "353b6f4f",
   "metadata": {},
   "source": [
    "## Testing error for different combinations of planets"
   ]
  },
  {
   "cell_type": "markdown",
   "id": "448bae32",
   "metadata": {},
   "source": [
    "### random combos"
   ]
  },
  {
   "cell_type": "code",
   "execution_count": 37,
   "id": "4cfc7764",
   "metadata": {},
   "outputs": [],
   "source": [
    "combos=[['Uranus', 'Neptune'],['Saturn', 'Uranus', 'Neptune'], ['Jupiter','Saturn', 'Uranus', 'Neptune' ], ['Sun', 'Mercury', 'Venus'],\n",
    "        ['Sun', 'Mercury', 'Venus', 'Moon'], ['Moon', 'Mars', 'Jupiter'], ['Moon', 'Mercury', 'Jupiter','Neptune'], ['Sun','Moon','Mercury','Venus','Mars','Jupiter','Saturn','Uranus','Neptune'],\n",
    "       ['Sun','Moon','Mercury','Venus','Mars','Jupiter','Saturn','Uranus','Neptune']]\n",
    "error={}"
   ]
  },
  {
   "cell_type": "code",
   "execution_count": null,
   "id": "ca880f10",
   "metadata": {},
   "outputs": [],
   "source": [
    "for combo in combos:\n",
    "    X=df[combo]\n",
    "    y=df['DaysBirth']\n",
    "    X_train, X_test, y_train, y_test = train_test_split(X, y, test_size=0.25)\n",
    "    reg=DecisionTreeRegressor(max_depth=17).fit(X_train,y_train)\n",
    "    joined=\" \".join(combo)\n",
    "    error[joined]=mean_squared_error(y_test,reg.predict(X_test))\n",
    "print (error)"
   ]
  },
  {
   "cell_type": "markdown",
   "id": "e9d8f83a",
   "metadata": {},
   "source": [
    "### Removing one at a time"
   ]
  },
  {
   "cell_type": "code",
   "execution_count": 54,
   "id": "97db91d4",
   "metadata": {},
   "outputs": [
    {
     "data": {
      "text/plain": [
       "9"
      ]
     },
     "execution_count": 54,
     "metadata": {},
     "output_type": "execute_result"
    }
   ],
   "source": [
    "full=['Sun','Moon','Mercury','Venus','Mars','Jupiter','Saturn','Uranus','Neptune']\n",
    "error2={}\n",
    "len(full)"
   ]
  },
  {
   "cell_type": "code",
   "execution_count": 55,
   "id": "3f5d77a5",
   "metadata": {},
   "outputs": [],
   "source": [
    "for i in range(9):\n",
    "    new_arr = full[:i] + full[i+1:]\n",
    "    X=df[new_arr]\n",
    "    y=df['DaysBirth']\n",
    "    X_train, X_test, y_train, y_test = train_test_split(X, y, test_size=0.25)\n",
    "    reg=DecisionTreeRegressor(max_depth=17).fit(X_train,y_train)\n",
    "    joined=\" \".join(new_arr)\n",
    "    missing=full[i]\n",
    "    error2[missing]=mean_squared_error(y_test,reg.predict(X_test))"
   ]
  },
  {
   "cell_type": "code",
   "execution_count": 41,
   "id": "813b2b64",
   "metadata": {},
   "outputs": [
    {
     "name": "stdout",
     "output_type": "stream",
     "text": [
      "{'Uranus Neptune': 312667021.4912211, 'Saturn Uranus Neptune': 6093428.867743207, 'Jupiter Saturn Uranus Neptune': 10724.025876939895, 'Sun Mercury Venus': 456939178.79797864, 'Sun Mercury Venus Moon': 439401563.38403255, 'Moon Mars Jupiter': 427288370.2895509, 'Moon Mercury Jupiter Neptune': 210769734.767343, 'Sun Moon Mercury Venus Mars Jupiter Saturn Uranus Neptune': 1.541871975680351}\n"
     ]
    }
   ],
   "source": [
    "print (error2)"
   ]
  },
  {
   "cell_type": "markdown",
   "id": "9e97a808",
   "metadata": {},
   "source": [
    "### Removing one at a time wo Mercury and Venus"
   ]
  },
  {
   "cell_type": "code",
   "execution_count": 57,
   "id": "09bb983a",
   "metadata": {},
   "outputs": [],
   "source": [
    "NoMercuryVenus=['Sun','Moon','Mars','Jupiter','Saturn','Uranus','Neptune']\n",
    "error3={}\n",
    "for i in range(7):\n",
    "    new_arr = NoMercuryVenus[:i] + NoMercuryVenus[i+1:]\n",
    "    X=df[new_arr]\n",
    "    y=df['DaysBirth']\n",
    "    X_train, X_test, y_train, y_test = train_test_split(X, y, test_size=0.25)\n",
    "    reg=DecisionTreeRegressor(max_depth=17).fit(X_train,y_train)\n",
    "    joined=\" \".join(new_arr)\n",
    "    missing=NoMercuryVenus[i]\n",
    "    error3[missing]=mean_squared_error(y_test,reg.predict(X_test))"
   ]
  },
  {
   "cell_type": "code",
   "execution_count": 58,
   "id": "a469b4c4",
   "metadata": {},
   "outputs": [
    {
     "name": "stdout",
     "output_type": "stream",
     "text": [
      "{'Sun': 918.9713156209515, 'Moon': 47.82121096144048, 'Mars': 1802.0074800160098, 'Jupiter': 11532.717007274648, 'Saturn': 10257794.382123677, 'Uranus': 16.183034683277704, 'Neptune': 25.19716354858993}\n"
     ]
    }
   ],
   "source": [
    "print (error3)"
   ]
  },
  {
   "cell_type": "markdown",
   "id": "2c9b3d03",
   "metadata": {},
   "source": [
    "### Removing one at a time wo Mercury, Venus and Uranus"
   ]
  },
  {
   "cell_type": "code",
   "execution_count": 61,
   "id": "5cbb86e2",
   "metadata": {},
   "outputs": [],
   "source": [
    "NoMerVU=['Sun','Moon','Mars','Jupiter','Saturn','Neptune']\n",
    "error4={}\n",
    "for i in range(6):\n",
    "    new_arr = NoMerVU[:i] + NoMerVU[i+1:]\n",
    "    X=df[new_arr]\n",
    "    y=df['DaysBirth']\n",
    "    X_train, X_test, y_train, y_test = train_test_split(X, y, test_size=0.25)\n",
    "    reg=DecisionTreeRegressor(max_depth=17).fit(X_train,y_train)\n",
    "    joined=\" \".join(new_arr)\n",
    "    missing=NoMerVU[i]\n",
    "    error4[missing]=mean_squared_error(y_test,reg.predict(X_test))"
   ]
  },
  {
   "cell_type": "code",
   "execution_count": 62,
   "id": "50db71d8",
   "metadata": {},
   "outputs": [
    {
     "name": "stdout",
     "output_type": "stream",
     "text": [
      "{'Sun': 927.6699378606401, 'Moon': 48.55265138321328, 'Mars': 76764.5388425026, 'Jupiter': 11847855.230189698, 'Saturn': 40469893.685300454, 'Neptune': 31655874.29302083}\n"
     ]
    }
   ],
   "source": [
    "print (error4)"
   ]
  },
  {
   "cell_type": "markdown",
   "id": "9d01efba",
   "metadata": {},
   "source": [
    "### Removing one at a time wo Mercury, Venus, Uranus, and Neptune"
   ]
  },
  {
   "cell_type": "code",
   "execution_count": 64,
   "id": "e684683c",
   "metadata": {},
   "outputs": [],
   "source": [
    "NoMMerVU=['Sun','Mars','Jupiter','Saturn','Neptune']\n",
    "error5={}\n",
    "for i in range(5):\n",
    "    new_arr = NoMMerVU[:i] + NoMMerVU[i+1:]\n",
    "    X=df[new_arr]\n",
    "    y=df['DaysBirth']\n",
    "    X_train, X_test, y_train, y_test = train_test_split(X, y, test_size=0.25)\n",
    "    reg=DecisionTreeRegressor(max_depth=17).fit(X_train,y_train)\n",
    "    joined=\" \".join(new_arr)\n",
    "    missing=NoMMerVU[i]\n",
    "    error5[missing]=mean_squared_error(y_test,reg.predict(X_test))"
   ]
  },
  {
   "cell_type": "code",
   "execution_count": 65,
   "id": "2eced0f5",
   "metadata": {},
   "outputs": [
    {
     "name": "stdout",
     "output_type": "stream",
     "text": [
      "{'Sun': 1105.349755000284, 'Mars': 213117.84787207659, 'Jupiter': 16532122.700493826, 'Saturn': 39067955.824230604, 'Neptune': 32594058.996773854}\n"
     ]
    }
   ],
   "source": [
    "print (error5)"
   ]
  },
  {
   "cell_type": "markdown",
   "id": "788a5a4f",
   "metadata": {},
   "source": [
    "### BEST MODEL FOR NUMBER OF PLANETS"
   ]
  },
  {
   "cell_type": "code",
   "execution_count": 66,
   "id": "894cba4b",
   "metadata": {},
   "outputs": [
    {
     "data": {
      "text/plain": [
       "49.604758664197306"
      ]
     },
     "execution_count": 66,
     "metadata": {},
     "output_type": "execute_result"
    }
   ],
   "source": [
    "X=df[['Sun','Mars','Jupiter','Saturn','Neptune']]\n",
    "y=df['DaysBirth']\n",
    "X_train, X_test, y_train, y_test = train_test_split(X, y, test_size=0.25)\n",
    "reg=DecisionTreeRegressor(max_depth=17).fit(X_train,y_train)\n",
    "mean_squared_error(y_test,reg.predict(X_test))  "
   ]
  },
  {
   "cell_type": "code",
   "execution_count": null,
   "id": "308fdb7f",
   "metadata": {},
   "outputs": [],
   "source": []
  }
 ],
 "metadata": {
  "kernelspec": {
   "display_name": "Python 3 (ipykernel)",
   "language": "python",
   "name": "python3"
  },
  "language_info": {
   "codemirror_mode": {
    "name": "ipython",
    "version": 3
   },
   "file_extension": ".py",
   "mimetype": "text/x-python",
   "name": "python",
   "nbconvert_exporter": "python",
   "pygments_lexer": "ipython3",
   "version": "3.11.7"
  }
 },
 "nbformat": 4,
 "nbformat_minor": 5
}

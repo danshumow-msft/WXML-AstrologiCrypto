{
 "cells": [
  {
   "cell_type": "code",
   "execution_count": 30,
   "id": "8d92071f",
   "metadata": {},
   "outputs": [],
   "source": [
    "from kerykeion import AstrologicalSubject\n",
    "from datetime import timedelta, date\n",
    "import numpy as np\n",
    "from scipy.stats import entropy\n",
    "import matplotlib.pyplot as plt\n",
    "import pandas as pd"
   ]
  },
  {
   "cell_type": "code",
   "execution_count": 31,
   "id": "9d3065ec",
   "metadata": {},
   "outputs": [],
   "source": [
    "column_names = ['Month', 'Day', 'Year','Time','Sun House','Moon House','Mercury House','Venus House','Mars House','Jupiter House','Saturn House', 'Uranus House', 'Neptune House']\n",
    "df = pd.DataFrame(columns=column_names)"
   ]
  },
  {
   "cell_type": "code",
   "execution_count": 32,
   "id": "d62872f3",
   "metadata": {},
   "outputs": [],
   "source": [
    "translate = {\n",
    "  \"First_House\": 1,\n",
    "  \"Second_House\": 2,\n",
    "  \"Third_House\": 3,\n",
    "  \"Fourth_House\": 4,\n",
    "  \"Fifth_House\": 5,\n",
    "  \"Sixth_House\": 6,\n",
    "  \"Seventh_House\": 7,\n",
    "  \"Eighth_House\": 8,\n",
    "  \"Ninth_House\": 9,\n",
    "  \"Tenth_House\": 10,\n",
    "  \"Eleventh_House\": 11,\n",
    "  \"Twelfth_House\": 12\n",
    "}"
   ]
  },
  {
   "cell_type": "code",
   "execution_count": null,
   "id": "92e3a860",
   "metadata": {},
   "outputs": [],
   "source": []
  },
  {
   "cell_type": "code",
   "execution_count": 33,
   "id": "6354495f",
   "metadata": {},
   "outputs": [],
   "source": [
    "years=np.random.randint(1820,2023,10)\n",
    "for i in years:\n",
    "    start_date = datetime(i,1,1)\n",
    "    for j in range(100):\n",
    "        rand=np.random.randint(0,364)\n",
    "        current=start_date+timedelta(days=rand)\n",
    "        minutes = np.random.randint(0, 1439, 12)\n",
    "        month=current.month\n",
    "        day=current.day\n",
    "        for k in minutes:\n",
    "            hour=k//60\n",
    "            minute=k%60\n",
    "            year=current.year\n",
    "            month=current.month\n",
    "            day=current.day\n",
    "            subject= AstrologicalSubject(\"Tejan\", i, month, day, hour, minute, city=\"Chenai\", nation=\"IN\")\n",
    "            sun=subject.sun\n",
    "            sunHouse=sun['house']\n",
    "            moon=subject.moon\n",
    "            moonHouse=moon['house']\n",
    "            mercury=subject.mercury\n",
    "            mercuryHouse=mercury['house']\n",
    "            venus=subject.venus\n",
    "            venusHouse=venus['house']\n",
    "            mars=subject.mars\n",
    "            marsHouse=mars['house']\n",
    "            jupiter=subject.jupiter\n",
    "            jupiterHouse=jupiter['house']\n",
    "            saturn=subject.saturn\n",
    "            saturnHouse=saturn['house']\n",
    "            uranus=subject.uranus\n",
    "            uranusHouse=uranus['house']\n",
    "            neptune=subject.neptune\n",
    "            neptuneHouse=neptune['house']\n",
    "            newEntry={'Month':month, 'Day':day, 'Year':year,'Time':k,'Sun House':translate[sunHouse],'Moon House':translate[moonHouse],'Mercury House':translate[mercuryHouse],'Venus House':translate[venusHouse],'Mars House':translate[marsHouse],'Jupiter House':translate[jupiterHouse],'Saturn House':translate[saturnHouse], 'Uranus House':translate[uranusHouse], 'Neptune House':translate[uranusHouse]}\n",
    "            df = pd.concat([df, pd.DataFrame([newEntry])], ignore_index=True)"
   ]
  },
  {
   "cell_type": "code",
   "execution_count": 34,
   "id": "b680c355",
   "metadata": {},
   "outputs": [],
   "source": [
    "df['Hour']=df['Time']//60\n",
    "df['Minute']=df['Time']%60"
   ]
  },
  {
   "cell_type": "code",
   "execution_count": 35,
   "id": "d1102916",
   "metadata": {},
   "outputs": [],
   "source": [
    "df=df[['Month', 'Day', 'Year','Hour','Minute','Time','Sun House','Moon House','Mercury House','Venus House','Mars House','Jupiter House','Saturn House', 'Uranus House', 'Neptune House']]"
   ]
  },
  {
   "cell_type": "code",
   "execution_count": 36,
   "id": "7236a4fa",
   "metadata": {},
   "outputs": [],
   "source": [
    "df.to_csv('DataFrame1.csv', index=False)"
   ]
  },
  {
   "cell_type": "code",
   "execution_count": 43,
   "id": "3fcfe0ec",
   "metadata": {},
   "outputs": [],
   "source": [
    "mutual_info=np.zeros((12,12))\n",
    "for i in range (1,13):\n",
    "    for j in range (1,13):\n",
    "        adjusted_df=df[(df['Moon House']==i) & (df['Neptune House']==j)]\n",
    "        mutual_info[i-1,j-1]=adjusted_df.shape[0]"
   ]
  },
  {
   "cell_type": "code",
   "execution_count": 44,
   "id": "fb5cc191",
   "metadata": {},
   "outputs": [
    {
     "data": {
      "text/plain": [
       "array([[ 84.,  67.,  99.,  70.,  85.,  70., 105., 103.,  83.,  74., 100.,\n",
       "         77.],\n",
       "       [ 84.,  74.,  66.,  80.,  65.,  85.,  86.,  98.,  92.,  94.,  87.,\n",
       "         77.],\n",
       "       [ 79., 107.,  71.,  69.,  76.,  44.,  92.,  75.,  87.,  78., 106.,\n",
       "         89.],\n",
       "       [ 85.,  63.,  97.,  63.,  66., 104.,  91.,  83.,  85., 102.,  91.,\n",
       "         90.],\n",
       "       [ 77.,  99.,  76.,  62.,  84.,  78.,  81.,  85.,  73.,  93., 105.,\n",
       "         67.],\n",
       "       [ 96.,  90.,  78.,  80.,  85.,  92.,  73.,  99.,  75.,  76.,  84.,\n",
       "         83.],\n",
       "       [109.,  79.,  82.,  80.,  85.,  79.,  84.,  88.,  86.,  84.,  63.,\n",
       "         91.],\n",
       "       [ 78.,  97.,  91.,  91.,  86.,  79.,  88.,  86.,  64.,  89.,  74.,\n",
       "         86.],\n",
       "       [ 77.,  82.,  94.,  81., 108.,  91.,  79., 111.,  72.,  70.,  72.,\n",
       "         80.],\n",
       "       [ 88.,  77.,  83., 100.,  82.,  81.,  80.,  81.,  98.,  76.,  59.,\n",
       "         97.],\n",
       "       [ 68.,  64.,  85.,  72., 104.,  69.,  97.,  91.,  57.,  85.,  91.,\n",
       "         60.],\n",
       "       [ 73., 100.,  79.,  67.,  81.,  90.,  91.,  91.,  86.,  78.,  87.,\n",
       "        107.]])"
      ]
     },
     "execution_count": 44,
     "metadata": {},
     "output_type": "execute_result"
    }
   ],
   "source": [
    "mutual_info"
   ]
  },
  {
   "cell_type": "code",
   "execution_count": null,
   "id": "a5747cad",
   "metadata": {},
   "outputs": [],
   "source": []
  }
 ],
 "metadata": {
  "kernelspec": {
   "display_name": "Python 3 (ipykernel)",
   "language": "python",
   "name": "python3"
  },
  "language_info": {
   "codemirror_mode": {
    "name": "ipython",
    "version": 3
   },
   "file_extension": ".py",
   "mimetype": "text/x-python",
   "name": "python",
   "nbconvert_exporter": "python",
   "pygments_lexer": "ipython3",
   "version": "3.9.13"
  }
 },
 "nbformat": 4,
 "nbformat_minor": 5
}

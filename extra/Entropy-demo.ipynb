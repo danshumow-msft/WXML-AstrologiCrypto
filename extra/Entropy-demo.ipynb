{
  "nbformat": 4,
  "nbformat_minor": 0,
  "metadata": {
    "colab": {
      "provenance": []
    },
    "kernelspec": {
      "name": "python3",
      "display_name": "Python 3"
    },
    "language_info": {
      "name": "python"
    }
  },
  "cells": [
    {
      "cell_type": "code",
      "execution_count": 1,
      "metadata": {
        "id": "-J9nc_8fIHS0"
      },
      "outputs": [],
      "source": [
        "import numpy as np\n",
        "import scipy as scp"
      ]
    },
    {
      "cell_type": "code",
      "source": [
        "import matplotlib.pyplot as plt"
      ],
      "metadata": {
        "id": "-s4Ri2Y1ILpZ"
      },
      "execution_count": 2,
      "outputs": []
    },
    {
      "cell_type": "code",
      "source": [
        "uniform_numbers = np.random.uniform(0,1, (100000,))"
      ],
      "metadata": {
        "id": "XH6Yctc1KHCs"
      },
      "execution_count": 17,
      "outputs": []
    },
    {
      "cell_type": "code",
      "source": [
        "plt.hist(uniform_numbers, bins=10)"
      ],
      "metadata": {
        "colab": {
          "base_uri": "https://localhost:8080/",
          "height": 522
        },
        "id": "3gRC77izKQU1",
        "outputId": "ca2b1820-2ee6-44ce-9629-27cf1fa8b131"
      },
      "execution_count": 13,
      "outputs": [
        {
          "output_type": "execute_result",
          "data": {
            "text/plain": [
              "(array([1., 1., 1., 0., 1., 2., 2., 0., 1., 1.]),\n",
              " array([0.0474549 , 0.12680522, 0.20615554, 0.28550586, 0.36485618,\n",
              "        0.4442065 , 0.52355682, 0.60290714, 0.68225746, 0.76160778,\n",
              "        0.8409581 ]),\n",
              " <BarContainer object of 10 artists>)"
            ]
          },
          "metadata": {},
          "execution_count": 13
        },
        {
          "output_type": "display_data",
          "data": {
            "text/plain": [
              "<Figure size 640x480 with 1 Axes>"
            ],
            "image/png": "[encoded data removed]"
          },
          "metadata": {}
        }
      ]
    },
    {
      "cell_type": "code",
      "source": [
        "uniform_numbers"
      ],
      "metadata": {
        "colab": {
          "base_uri": "https://localhost:8080/"
        },
        "id": "fqIUBw6vKUAO",
        "outputId": "ec1ec9ea-0eb1-460f-e3b3-175615545682"
      },
      "execution_count": 14,
      "outputs": [
        {
          "output_type": "execute_result",
          "data": {
            "text/plain": [
              "array([0.47844492, 0.7077029 , 0.0474549 , 0.58182456, 0.59786254,\n",
              "       0.24329625, 0.41717866, 0.8409581 , 0.49365001, 0.18828392])"
            ]
          },
          "metadata": {},
          "execution_count": 14
        }
      ]
    },
    {
      "cell_type": "code",
      "source": [
        "def entropy4(labels, base=None):\n",
        "  value,counts = np.unique(labels, return_counts=True)\n",
        "  norm_counts = counts / counts.sum()\n",
        "  base = 2 if base is None else base\n",
        "  return -(norm_counts * np.log(norm_counts)/np.log(base)).sum()"
      ],
      "metadata": {
        "id": "E3jgIctAK4iP"
      },
      "execution_count": 24,
      "outputs": []
    },
    {
      "cell_type": "code",
      "source": [
        "entropy4(uniform_numbers, 2)"
      ],
      "metadata": {
        "colab": {
          "base_uri": "https://localhost:8080/"
        },
        "id": "U3cX2IIKLmbx",
        "outputId": "16f72fe1-1083-43f9-86dc-b2d8e0307e5d"
      },
      "execution_count": 25,
      "outputs": [
        {
          "output_type": "execute_result",
          "data": {
            "text/plain": [
              "16.609640474436816"
            ]
          },
          "metadata": {},
          "execution_count": 25
        }
      ]
    },
    {
      "cell_type": "code",
      "source": [
        "coin_flips = np.random.randint(0,2, size=(10000,1))"
      ],
      "metadata": {
        "id": "N88VQyEXLtfa"
      },
      "execution_count": 28,
      "outputs": []
    },
    {
      "cell_type": "code",
      "source": [
        "entropy4(coin_flips)"
      ],
      "metadata": {
        "colab": {
          "base_uri": "https://localhost:8080/"
        },
        "id": "vkkRDZDwMJyl",
        "outputId": "40b791b2-cf17-430e-f674-ddf25464cab7"
      },
      "execution_count": 29,
      "outputs": [
        {
          "output_type": "execute_result",
          "data": {
            "text/plain": [
              "0.9999626050214436"
            ]
          },
          "metadata": {},
          "execution_count": 29
        }
      ]
    },
    {
      "cell_type": "code",
      "source": [],
      "metadata": {
        "id": "MpSxF16lMYaB"
      },
      "execution_count": null,
      "outputs": []
    }
  ]
}
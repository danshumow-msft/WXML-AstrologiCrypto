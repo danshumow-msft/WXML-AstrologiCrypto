{
 "cells": [
  {
   "cell_type": "code",
   "execution_count": 2,
   "id": "63f144a4",
   "metadata": {},
   "outputs": [],
   "source": [
    "from kerykeion import AstrologicalSubject\n",
    "from datetime import timedelta, date, datetime\n",
    "import numpy as np\n",
    "import matplotlib.pyplot as plt\n",
    "import pandas as pd\n",
    "import random\n",
    "import time"
   ]
  },
  {
   "cell_type": "code",
   "execution_count": 4,
   "id": "3540b1fa",
   "metadata": {},
   "outputs": [],
   "source": [
    "translate = {\n",
    "  \"First_House\": 1,\n",
    "  \"Second_House\": 2,\n",
    "  \"Third_House\": 3,\n",
    "  \"Fourth_House\": 4,\n",
    "  \"Fifth_House\": 5,\n",
    "  \"Sixth_House\": 6,\n",
    "  \"Seventh_House\": 7,\n",
    "  \"Eighth_House\": 8,\n",
    "  \"Ninth_House\": 9,\n",
    "  \"Tenth_House\": 10,\n",
    "  \"Eleventh_House\": 11,\n",
    "  \"Twelfth_House\": 12\n",
    "}"
   ]
  },
  {
   "cell_type": "code",
   "execution_count": 5,
   "id": "387c0e85",
   "metadata": {},
   "outputs": [
    {
     "ename": "OverflowError",
     "evalue": "mktime argument out of range",
     "output_type": "error",
     "traceback": [
      "\u001b[1;31m---------------------------------------------------------------------------\u001b[0m",
      "\u001b[1;31mOverflowError\u001b[0m                             Traceback (most recent call last)",
      "Cell \u001b[1;32mIn[5], line 13\u001b[0m\n\u001b[0;32m     10\u001b[0m \u001b[38;5;28;01mdef\u001b[39;00m \u001b[38;5;21mrandom_date\u001b[39m(start, end, prop):\n\u001b[0;32m     11\u001b[0m     \u001b[38;5;28;01mreturn\u001b[39;00m str_time_prop(start, end, \u001b[38;5;124m'\u001b[39m\u001b[38;5;132;01m%d\u001b[39;00m\u001b[38;5;124m/\u001b[39m\u001b[38;5;124m%\u001b[39m\u001b[38;5;124mm/\u001b[39m\u001b[38;5;124m%\u001b[39m\u001b[38;5;124mY \u001b[39m\u001b[38;5;124m%\u001b[39m\u001b[38;5;124mH:\u001b[39m\u001b[38;5;124m%\u001b[39m\u001b[38;5;124mM\u001b[39m\u001b[38;5;124m'\u001b[39m, prop) \u001b[38;5;66;03m#'%d/%m/%Y %H:%M'\u001b[39;00m\n\u001b[1;32m---> 13\u001b[0m \u001b[38;5;28mprint\u001b[39m(\u001b[43mrandom_date\u001b[49m\u001b[43m(\u001b[49m\u001b[38;5;124;43m\"\u001b[39;49m\u001b[38;5;124;43m1/1/1824 7:00\u001b[39;49m\u001b[38;5;124;43m\"\u001b[39;49m\u001b[43m,\u001b[49m\u001b[43m \u001b[49m\u001b[38;5;124;43m\"\u001b[39;49m\u001b[38;5;124;43m1/1/2024 7:00\u001b[39;49m\u001b[38;5;124;43m\"\u001b[39;49m\u001b[43m,\u001b[49m\u001b[43m \u001b[49m\u001b[43mrandom\u001b[49m\u001b[38;5;241;43m.\u001b[39;49m\u001b[43mrandom\u001b[49m\u001b[43m(\u001b[49m\u001b[43m)\u001b[49m\u001b[43m)\u001b[49m)\n",
      "Cell \u001b[1;32mIn[5], line 11\u001b[0m, in \u001b[0;36mrandom_date\u001b[1;34m(start, end, prop)\u001b[0m\n\u001b[0;32m     10\u001b[0m \u001b[38;5;28;01mdef\u001b[39;00m \u001b[38;5;21mrandom_date\u001b[39m(start, end, prop):\n\u001b[1;32m---> 11\u001b[0m     \u001b[38;5;28;01mreturn\u001b[39;00m \u001b[43mstr_time_prop\u001b[49m\u001b[43m(\u001b[49m\u001b[43mstart\u001b[49m\u001b[43m,\u001b[49m\u001b[43m \u001b[49m\u001b[43mend\u001b[49m\u001b[43m,\u001b[49m\u001b[43m \u001b[49m\u001b[38;5;124;43m'\u001b[39;49m\u001b[38;5;132;43;01m%d\u001b[39;49;00m\u001b[38;5;124;43m/\u001b[39;49m\u001b[38;5;124;43m%\u001b[39;49m\u001b[38;5;124;43mm/\u001b[39;49m\u001b[38;5;124;43m%\u001b[39;49m\u001b[38;5;124;43mY \u001b[39;49m\u001b[38;5;124;43m%\u001b[39;49m\u001b[38;5;124;43mH:\u001b[39;49m\u001b[38;5;124;43m%\u001b[39;49m\u001b[38;5;124;43mM\u001b[39;49m\u001b[38;5;124;43m'\u001b[39;49m\u001b[43m,\u001b[49m\u001b[43m \u001b[49m\u001b[43mprop\u001b[49m\u001b[43m)\u001b[49m\n",
      "Cell \u001b[1;32mIn[5], line 2\u001b[0m, in \u001b[0;36mstr_time_prop\u001b[1;34m(start, end, time_format, prop)\u001b[0m\n\u001b[0;32m      1\u001b[0m \u001b[38;5;28;01mdef\u001b[39;00m \u001b[38;5;21mstr_time_prop\u001b[39m(start, end, time_format, prop):\n\u001b[1;32m----> 2\u001b[0m     stime \u001b[38;5;241m=\u001b[39m \u001b[43mtime\u001b[49m\u001b[38;5;241;43m.\u001b[39;49m\u001b[43mmktime\u001b[49m\u001b[43m(\u001b[49m\u001b[43mtime\u001b[49m\u001b[38;5;241;43m.\u001b[39;49m\u001b[43mstrptime\u001b[49m\u001b[43m(\u001b[49m\u001b[43mstart\u001b[49m\u001b[43m,\u001b[49m\u001b[43m \u001b[49m\u001b[43mtime_format\u001b[49m\u001b[43m)\u001b[49m\u001b[43m)\u001b[49m\n\u001b[0;32m      3\u001b[0m     etime \u001b[38;5;241m=\u001b[39m time\u001b[38;5;241m.\u001b[39mmktime(time\u001b[38;5;241m.\u001b[39mstrptime(end, time_format))\n\u001b[0;32m      5\u001b[0m     ptime \u001b[38;5;241m=\u001b[39m stime \u001b[38;5;241m+\u001b[39m prop \u001b[38;5;241m*\u001b[39m (etime \u001b[38;5;241m-\u001b[39m stime)\n",
      "\u001b[1;31mOverflowError\u001b[0m: mktime argument out of range"
     ]
    }
   ],
   "source": [
    "def str_time_prop(start, end, time_format, prop):\n",
    "    stime = time.mktime(time.strptime(start, time_format))\n",
    "    etime = time.mktime(time.strptime(end, time_format))\n",
    "\n",
    "    ptime = stime + prop * (etime - stime)\n",
    "\n",
    "    return time.strftime(time_format, time.localtime(ptime))\n",
    "\n",
    "\n",
    "def random_date(start, end, prop):\n",
    "    return str_time_prop(start, end, '%d/%m/%Y %H:%M', prop) #'%d/%m/%Y %H:%M'\n",
    "\n",
    "print(random_date(\"1/1/1824 7:00\", \"1/1/2024 7:00\", random.random()))"
   ]
  },
  {
   "cell_type": "code",
   "execution_count": 11,
   "id": "ffca2fa7",
   "metadata": {},
   "outputs": [],
   "source": [
    "column_names = ['DateTime','Sun','Moon','Mercury','Venus','Mars','Jupiter','Saturn', 'Uranus', 'Neptune', 'Independent1', 'Indpendent2', 'Loosely1','Loosely2', 'Strongly1', 'Strongly2']\n",
    "df = pd.DataFrame(columns=column_names)"
   ]
  },
  {
   "cell_type": "code",
   "execution_count": null,
   "id": "aba42d74",
   "metadata": {},
   "outputs": [],
   "source": [
    "for i in range(100000):\n",
    "    date = random_date(\"1/1/1970 7:00\", \"1/1/2024 7:00\", random.random())\n",
    "    day = int(date[0:2])\n",
    "    month = int(date[3:5])\n",
    "    year = int(date[6:10])\n",
    "    hour = int(date[11:13])\n",
    "    minute = int(date[14:16])\n",
    "    subject= AstrologicalSubject(\"Subject\", year, month, day, hour, minute, lng=80, lat=13, city=\"Chennai\", nation = \"IN\")\n",
    "    loose1=np.random.uniform(1, 10) ##random double between 1 and 10\n",
    "    loose2= loose1**2 + np.random.normal(0, 10) ## with noise\n",
    "    strong1= random.randint(2, 21)\n",
    "    strong2=2* strong1+ np.random.uniform(0,2)\n",
    "    newEntry={'DateTime': date,\n",
    "            'Sun':translate[subject.sun.house],\n",
    "            'Moon':translate[subject.moon.house],\n",
    "            'Mercury':translate[subject.mercury.house],\n",
    "            'Venus':translate[subject.venus.house],\n",
    "            'Mars':translate[subject.mars.house],\n",
    "            'Jupiter':translate[subject.jupiter.house],\n",
    "            'Saturn':translate[subject.saturn.house],\n",
    "            'Uranus':translate[subject.uranus.house],\n",
    "            'Neptune':translate[subject.neptune.house],\n",
    "            'Independent1': random.random(),\n",
    "            'Indpendent2': random.uniform(0, 5),\n",
    "            'Loosely1': loose1,\n",
    "            'Loosely2': loose2,\n",
    "            'Strongly1': strong1,\n",
    "            'Strongly2':strong2\n",
    "             }\n",
    "    df = pd.concat([df, pd.DataFrame([newEntry])], ignore_index=True)"
   ]
  },
  {
   "cell_type": "code",
   "execution_count": null,
   "id": "9d982143",
   "metadata": {},
   "outputs": [],
   "source": [
    "df.to_csv('WXML_SP24_DF.csv', index=False)"
   ]
  },
  {
   "cell_type": "code",
   "execution_count": null,
   "id": "8d970ea0",
   "metadata": {},
   "outputs": [],
   "source": [
    "df=df[['DateTime','Sun','Moon','Mercury','Venus','Mars','Jupiter','Saturn', 'Uranus', 'Neptune', 'Trait1', 'Trait2', 'Trait3']]\n"
   ]
  },
  {
   "cell_type": "code",
   "execution_count": null,
   "id": "2acf66a7",
   "metadata": {},
   "outputs": [],
   "source": []
  }
 ],
 "metadata": {
  "kernelspec": {
   "display_name": "Python 3 (ipykernel)",
   "language": "python",
   "name": "python3"
  },
  "language_info": {
   "codemirror_mode": {
    "name": "ipython",
    "version": 3
   },
   "file_extension": ".py",
   "mimetype": "text/x-python",
   "name": "python",
   "nbconvert_exporter": "python",
   "pygments_lexer": "ipython3",
   "version": "3.9.13"
  }
 },
 "nbformat": 4,
 "nbformat_minor": 5
}

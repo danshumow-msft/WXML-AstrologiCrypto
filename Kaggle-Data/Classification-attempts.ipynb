{
 "cells": [
  {
   "cell_type": "markdown",
   "id": "5b2edd2d-634d-4eb9-912e-db6c21ff9446",
   "metadata": {},
   "source": [
    "## Lets try XGBoost\n",
    "\n",
    "To learn more checkout their [paper](https://arxiv.org/pdf/1603.02754.pdf)"
   ]
  },
  {
   "cell_type": "code",
   "execution_count": null,
   "id": "5430ec86-89d8-4277-b59d-2f423b992e9e",
   "metadata": {},
   "outputs": [],
   "source": [
    "import numpy as np\n",
    "import "
   ]
  },
  {
   "cell_type": "code",
   "execution_count": null,
   "id": "2b9ca019-cb8f-4f84-8ad4-8985dd2bbd01",
   "metadata": {},
   "outputs": [],
   "source": [
    "# import the csv file\n",
    "\n"
   ]
  }
 ],
 "metadata": {
  "kernelspec": {
   "display_name": "Python 3 (ipykernel)",
   "language": "python",
   "name": "python3"
  },
  "language_info": {
   "codemirror_mode": {
    "name": "ipython",
    "version": 3
   },
   "file_extension": ".py",
   "mimetype": "text/x-python",
   "name": "python",
   "nbconvert_exporter": "python",
   "pygments_lexer": "ipython3",
   "version": "3.11.7"
  }
 },
 "nbformat": 4,
 "nbformat_minor": 5
}

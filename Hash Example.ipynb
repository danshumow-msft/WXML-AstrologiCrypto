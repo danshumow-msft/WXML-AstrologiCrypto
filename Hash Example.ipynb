{
 "cells": [
  {
   "cell_type": "code",
   "execution_count": 1,
   "id": "57f31ed6",
   "metadata": {},
   "outputs": [],
   "source": [
    "import hashlib"
   ]
  },
  {
   "cell_type": "code",
   "execution_count": 4,
   "id": "50eda4ba",
   "metadata": {},
   "outputs": [
    {
     "data": {
      "text/plain": [
       "b',&\\xb4kh\\xff\\xc6\\x8f\\xf9\\x9bE<\\x1d0A4\\x13B-pd\\x83\\xbf\\xa0\\xf9\\x8a^\\x88bf\\xe7\\xae'"
      ]
     },
     "execution_count": 4,
     "metadata": {},
     "output_type": "execute_result"
    }
   ],
   "source": [
    "sha256 = hashlib.sha256\n",
    "h = sha256(bytes(\"foo\", 'utf-8'))\n",
    "h.digest()"
   ]
  },
  {
   "cell_type": "code",
   "execution_count": null,
   "id": "1902dfb7",
   "metadata": {},
   "outputs": [],
   "source": []
  }
 ],
 "metadata": {
  "kernelspec": {
   "display_name": "Python 3 (ipykernel)",
   "language": "python",
   "name": "python3"
  },
  "language_info": {
   "codemirror_mode": {
    "name": "ipython",
    "version": 3
   },
   "file_extension": ".py",
   "mimetype": "text/x-python",
   "name": "python",
   "nbconvert_exporter": "python",
   "pygments_lexer": "ipython3",
   "version": "3.9.13"
  }
 },
 "nbformat": 4,
 "nbformat_minor": 5
}

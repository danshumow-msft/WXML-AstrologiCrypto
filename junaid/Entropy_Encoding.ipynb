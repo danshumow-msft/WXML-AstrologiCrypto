{
  "nbformat": 4,
  "nbformat_minor": 0,
  "metadata": {
    "colab": {
      "provenance": []
    },
    "kernelspec": {
      "name": "python3",
      "display_name": "Python 3"
    },
    "language_info": {
      "name": "python"
    }
  },
  "cells": [
    {
      "cell_type": "markdown",
      "source": [
        "## Entropy Encoding\n",
        "\n",
        "* Given Planets P= {\"Sun\", \"Moon\", \"Mercury\", \"Venus\", \"Mars\", \"Jupiter\", \"Saturn\", \"Uranus\", \"Neptune\" }\n",
        "\n",
        "* We find the entropy E[p] for every planet p in P by generating data.\n",
        "\n",
        "* We store in a dictionary E = {\"Sun\":0.4, \"Moon\": 0.9, \"Mercury\":0.3, \"Venus\":0.2, \"Mars\":0.15, \"Jupiter\":0.1, \"Saturn\":0.05, \"Uranus\":0.02, \"Neptune\":0.01\n",
        "}\n",
        "\n",
        "* Then we sort the dictionary in decreasing order of entropy and obtain the entropy encoding.\n",
        "\n",
        "* We will store each person's astrological data in a tree in descending order of entropy.\n",
        "\n",
        "* The reason is simple: Knowing information about a high entropy object tells less than knowing information about a low entropy object."
      ],
      "metadata": {
        "id": "KN-ITd3WCeyG"
      }
    },
    {
      "cell_type": "code",
      "source": [
        "P= [\"Sun\", \"Moon\", \"Mercury\", \"Venus\", \"Mars\", \"Jupiter\", \"Saturn\", \"Uranus\", \"Neptune\"]\n",
        "\n",
        "E = {\"Sun\":0.4, \"Moon\": 0.9, \"Mercury\":0.3, \"Venus\":0.2, \"Mars\":0.15, \"Jupiter\":0.1, \"Saturn\":0.05, \"Uranus\":0.02, \"Neptune\":0.01 }"
      ],
      "metadata": {
        "id": "HVxJn3TDDgcn"
      },
      "execution_count": 1,
      "outputs": []
    },
    {
      "cell_type": "code",
      "source": [
        "E[\"Moon\"]"
      ],
      "metadata": {
        "colab": {
          "base_uri": "https://localhost:8080/"
        },
        "id": "m-be0wGEJrLF",
        "outputId": "d3691504-dead-4443-c632-90d595b543ba"
      },
      "execution_count": 2,
      "outputs": [
        {
          "output_type": "execute_result",
          "data": {
            "text/plain": [
              "0.9"
            ]
          },
          "metadata": {},
          "execution_count": 2
        }
      ]
    },
    {
      "cell_type": "markdown",
      "source": [
        "## Matrix M[i,j]\n",
        "\n",
        "* M[i, :] keeps a record of person i\n",
        "\n",
        "* M[:, j] keeps a record of planet j\n",
        "\n",
        "* Claim: M is less secure, because M[1,2] is less significant than their M[1,6]"
      ],
      "metadata": {
        "id": "O3T2oDkiJwGA"
      }
    },
    {
      "cell_type": "code",
      "source": [
        "M"
      ],
      "metadata": {
        "id": "4L7cOHboJuTr"
      },
      "execution_count": null,
      "outputs": []
    },
    {
      "cell_type": "markdown",
      "source": [
        "## More private way\n",
        "\n",
        "* Store in a tree, or give weights to the columns\n",
        "* Mask the columns\n",
        "* One would mask the columns with higher j more tightly."
      ],
      "metadata": {
        "id": "U1Hm-39zKOLP"
      }
    },
    {
      "cell_type": "code",
      "source": [],
      "metadata": {
        "id": "VZ9uZI2CKj2A"
      },
      "execution_count": null,
      "outputs": []
    }
  ]
}
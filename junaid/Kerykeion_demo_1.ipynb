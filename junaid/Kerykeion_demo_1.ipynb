{
  "nbformat": 4,
  "nbformat_minor": 0,
  "metadata": {
    "colab": {
      "provenance": []
    },
    "kernelspec": {
      "name": "python3",
      "display_name": "Python 3"
    },
    "language_info": {
      "name": "python"
    }
  },
  "cells": [
    {
      "cell_type": "code",
      "execution_count": 2,
      "metadata": {
        "colab": {
          "base_uri": "https://localhost:8080/"
        },
        "id": "wymwpN8Cz20X",
        "outputId": "f00f80c5-5147-402a-f409-6f1f0ac3da71"
      },
      "outputs": [
        {
          "output_type": "stream",
          "name": "stdout",
          "text": [
            "Collecting kerykeion\n",
            "  Downloading kerykeion-4.2.4-py3-none-any.whl (279 kB)\n",
            "\u001b[?25l     \u001b[90m━━━━━━━━━━━━━━━━━━━━━━━━━━━━━━━━━━━━━━━━\u001b[0m \u001b[32m0.0/279.6 kB\u001b[0m \u001b[31m?\u001b[0m eta \u001b[36m-:--:--\u001b[0m\r\u001b[2K     \u001b[91m━━━━━━━━━━━━━\u001b[0m\u001b[90m╺\u001b[0m\u001b[90m━━━━━━━━━━━━━━━━━━━━━━━━━━\u001b[0m \u001b[32m92.2/279.6 kB\u001b[0m \u001b[31m2.5 MB/s\u001b[0m eta \u001b[36m0:00:01\u001b[0m\r\u001b[2K     \u001b[90m━━━━━━━━━━━━━━━━━━━━━━━━━━━━━━━━━━━━━━━━\u001b[0m \u001b[32m279.6/279.6 kB\u001b[0m \u001b[31m4.8 MB/s\u001b[0m eta \u001b[36m0:00:00\u001b[0m\n",
            "\u001b[?25hRequirement already satisfied: pydantic<2.0.0,>=1.10.4 in /usr/local/lib/python3.10/dist-packages (from kerykeion) (1.10.13)\n",
            "Collecting pyswisseph<3.0.0.0,>=2.10.3.1 (from kerykeion)\n",
            "  Downloading pyswisseph-2.10.3.2-cp310-cp310-manylinux_2_17_x86_64.manylinux2014_x86_64.whl (1.8 MB)\n",
            "\u001b[2K     \u001b[90m━━━━━━━━━━━━━━━━━━━━━━━━━━━━━━━━━━━━━━━━\u001b[0m \u001b[32m1.8/1.8 MB\u001b[0m \u001b[31m40.8 MB/s\u001b[0m eta \u001b[36m0:00:00\u001b[0m\n",
            "\u001b[?25hCollecting pytz<2023.0,>=2022.7 (from kerykeion)\n",
            "  Downloading pytz-2022.7.1-py2.py3-none-any.whl (499 kB)\n",
            "\u001b[2K     \u001b[90m━━━━━━━━━━━━━━━━━━━━━━━━━━━━━━━━━━━━━━━━\u001b[0m \u001b[32m499.4/499.4 kB\u001b[0m \u001b[31m46.2 MB/s\u001b[0m eta \u001b[36m0:00:00\u001b[0m\n",
            "\u001b[?25hRequirement already satisfied: requests<3.0.0,>=2.28.1 in /usr/local/lib/python3.10/dist-packages (from kerykeion) (2.31.0)\n",
            "Collecting requests-cache<0.10.0,>=0.9.7 (from kerykeion)\n",
            "  Downloading requests_cache-0.9.8-py3-none-any.whl (48 kB)\n",
            "\u001b[2K     \u001b[90m━━━━━━━━━━━━━━━━━━━━━━━━━━━━━━━━━━━━━━━━\u001b[0m \u001b[32m48.7/48.7 kB\u001b[0m \u001b[31m5.8 MB/s\u001b[0m eta \u001b[36m0:00:00\u001b[0m\n",
            "\u001b[?25hCollecting terminaltables<4.0.0,>=3.1.10 (from kerykeion)\n",
            "  Downloading terminaltables-3.1.10-py2.py3-none-any.whl (15 kB)\n",
            "Requirement already satisfied: typing-extensions>=4.2.0 in /usr/local/lib/python3.10/dist-packages (from pydantic<2.0.0,>=1.10.4->kerykeion) (4.5.0)\n",
            "Requirement already satisfied: charset-normalizer<4,>=2 in /usr/local/lib/python3.10/dist-packages (from requests<3.0.0,>=2.28.1->kerykeion) (3.3.2)\n",
            "Requirement already satisfied: idna<4,>=2.5 in /usr/local/lib/python3.10/dist-packages (from requests<3.0.0,>=2.28.1->kerykeion) (3.4)\n",
            "Requirement already satisfied: urllib3<3,>=1.21.1 in /usr/local/lib/python3.10/dist-packages (from requests<3.0.0,>=2.28.1->kerykeion) (2.0.7)\n",
            "Requirement already satisfied: certifi>=2017.4.17 in /usr/local/lib/python3.10/dist-packages (from requests<3.0.0,>=2.28.1->kerykeion) (2023.7.22)\n",
            "Requirement already satisfied: appdirs>=1.4.4 in /usr/local/lib/python3.10/dist-packages (from requests-cache<0.10.0,>=0.9.7->kerykeion) (1.4.4)\n",
            "Requirement already satisfied: attrs>=21.2 in /usr/local/lib/python3.10/dist-packages (from requests-cache<0.10.0,>=0.9.7->kerykeion) (23.1.0)\n",
            "Collecting cattrs>=22.2 (from requests-cache<0.10.0,>=0.9.7->kerykeion)\n",
            "  Downloading cattrs-23.1.2-py3-none-any.whl (50 kB)\n",
            "\u001b[2K     \u001b[90m━━━━━━━━━━━━━━━━━━━━━━━━━━━━━━━━━━━━━━━━\u001b[0m \u001b[32m50.8/50.8 kB\u001b[0m \u001b[31m6.1 MB/s\u001b[0m eta \u001b[36m0:00:00\u001b[0m\n",
            "\u001b[?25hCollecting url-normalize>=1.4 (from requests-cache<0.10.0,>=0.9.7->kerykeion)\n",
            "  Downloading url_normalize-1.4.3-py2.py3-none-any.whl (6.8 kB)\n",
            "Requirement already satisfied: exceptiongroup in /usr/local/lib/python3.10/dist-packages (from cattrs>=22.2->requests-cache<0.10.0,>=0.9.7->kerykeion) (1.1.3)\n",
            "Requirement already satisfied: six in /usr/local/lib/python3.10/dist-packages (from url-normalize>=1.4->requests-cache<0.10.0,>=0.9.7->kerykeion) (1.16.0)\n",
            "Installing collected packages: pytz, url-normalize, terminaltables, pyswisseph, cattrs, requests-cache, kerykeion\n",
            "  Attempting uninstall: pytz\n",
            "    Found existing installation: pytz 2023.3.post1\n",
            "    Uninstalling pytz-2023.3.post1:\n",
            "      Successfully uninstalled pytz-2023.3.post1\n",
            "Successfully installed cattrs-23.1.2 kerykeion-4.2.4 pyswisseph-2.10.3.2 pytz-2022.7.1 requests-cache-0.9.8 terminaltables-3.1.10 url-normalize-1.4.3\n"
          ]
        }
      ],
      "source": [
        "# Install kerykeion using pip\n",
        "!pip3 install kerykeion"
      ]
    },
    {
      "cell_type": "code",
      "source": [
        "# Example 1\n",
        "from kerykeion import AstrologicalSubject\n",
        "person = AstrologicalSubject(\"Abc\", 2001, 1, 1, 13, 13, \"Seattle\")"
      ],
      "metadata": {
        "colab": {
          "base_uri": "https://localhost:8080/"
        },
        "id": "8CODlNMU0EMR",
        "outputId": "637c2baf-34c3-47fc-f8d9-ab565ab031e2"
      },
      "execution_count": 5,
      "outputs": [
        {
          "output_type": "stream",
          "name": "stderr",
          "text": [
            "WARNING:root:No nation specified, using GB as default\n"
          ]
        }
      ]
    },
    {
      "cell_type": "code",
      "source": [
        "person.houses_list"
      ],
      "metadata": {
        "colab": {
          "base_uri": "https://localhost:8080/"
        },
        "id": "Q-PcPbDn0ZsC",
        "outputId": "a54116d4-d7d1-49d9-ddb5-5c1785078c13"
      },
      "execution_count": 7,
      "outputs": [
        {
          "output_type": "execute_result",
          "data": {
            "text/plain": [
              "[{'name': 'First_House', 'quality': 'Fixed', 'element': 'Earth', 'sign': 'Tau', 'sign_num': 1, 'position': 20.68604996318885, 'abs_pos': 50.68604996318885, 'emoji': '♉️', 'point_type': 'House'},\n",
              " {'name': 'Second_House', 'quality': 'Mutable', 'element': 'Air', 'sign': 'Gem', 'sign_num': 2, 'position': 16.903358442488653, 'abs_pos': 76.90335844248865, 'emoji': '♊️', 'point_type': 'House'},\n",
              " {'name': 'Third_House', 'quality': 'Cardinal', 'element': 'Water', 'sign': 'Can', 'sign_num': 3, 'position': 6.31381354968191, 'abs_pos': 96.31381354968191, 'emoji': '♋️', 'point_type': 'House'},\n",
              " {'name': 'Fourth_House', 'quality': 'Cardinal', 'element': 'Water', 'sign': 'Can', 'sign_num': 3, 'position': 25.529695662627375, 'abs_pos': 115.52969566262738, 'emoji': '♋️', 'point_type': 'House'},\n",
              " {'name': 'Fifth_House', 'quality': 'Fixed', 'element': 'Fire', 'sign': 'Leo', 'sign_num': 4, 'position': 19.389046982775938, 'abs_pos': 139.38904698277594, 'emoji': '♌️', 'point_type': 'House'},\n",
              " {'name': 'Sixth_House', 'quality': 'Mutable', 'element': 'Earth', 'sign': 'Vir', 'sign_num': 5, 'position': 26.014696778191592, 'abs_pos': 176.0146967781916, 'emoji': '♍️', 'point_type': 'House'},\n",
              " {'name': 'Seventh_House', 'quality': 'Fixed', 'element': 'Water', 'sign': 'Sco', 'sign_num': 7, 'position': 20.68604996318885, 'abs_pos': 230.68604996318885, 'emoji': '♏️', 'point_type': 'House'},\n",
              " {'name': 'Eighth_House', 'quality': 'Mutable', 'element': 'Fire', 'sign': 'Sag', 'sign_num': 8, 'position': 16.90335844248864, 'abs_pos': 256.90335844248864, 'emoji': '♐️', 'point_type': 'House'},\n",
              " {'name': 'Ninth_House', 'quality': 'Cardinal', 'element': 'Earth', 'sign': 'Cap', 'sign_num': 9, 'position': 6.3138135496819245, 'abs_pos': 276.3138135496819, 'emoji': '♑️', 'point_type': 'House'},\n",
              " {'name': 'Tenth_House', 'quality': 'Cardinal', 'element': 'Earth', 'sign': 'Cap', 'sign_num': 9, 'position': 25.529695662627375, 'abs_pos': 295.5296956626274, 'emoji': '♑️', 'point_type': 'House'},\n",
              " {'name': 'Eleventh_House', 'quality': 'Fixed', 'element': 'Air', 'sign': 'Aqu', 'sign_num': 10, 'position': 19.389046982775938, 'abs_pos': 319.38904698277594, 'emoji': '♒️', 'point_type': 'House'},\n",
              " {'name': 'Twelfth_House', 'quality': 'Mutable', 'element': 'Water', 'sign': 'Pis', 'sign_num': 11, 'position': 26.01469677819165, 'abs_pos': 356.01469677819165, 'emoji': '♓️', 'point_type': 'House'}]"
            ]
          },
          "metadata": {},
          "execution_count": 7
        }
      ]
    },
    {
      "cell_type": "code",
      "source": [
        "person2 = AstrologicalSubject(\"Abc\", 2001, 1, 1, 14, 13, \"Seattle\")"
      ],
      "metadata": {
        "colab": {
          "base_uri": "https://localhost:8080/"
        },
        "id": "B3HbCuAv11ce",
        "outputId": "df62fc3e-5f6d-45be-b67e-6da81a5d862b"
      },
      "execution_count": 8,
      "outputs": [
        {
          "output_type": "stream",
          "name": "stderr",
          "text": [
            "WARNING:root:No nation specified, using GB as default\n"
          ]
        }
      ]
    },
    {
      "cell_type": "code",
      "source": [
        "person2.houses_list"
      ],
      "metadata": {
        "colab": {
          "base_uri": "https://localhost:8080/"
        },
        "id": "dBAyGNR02EvP",
        "outputId": "328d476e-a709-4e7e-fd2b-a690fbda45e3"
      },
      "execution_count": 9,
      "outputs": [
        {
          "output_type": "execute_result",
          "data": {
            "text/plain": [
              "[{'name': 'First_House', 'quality': 'Mutable', 'element': 'Air', 'sign': 'Gem', 'sign_num': 2, 'position': 10.434159833853172, 'abs_pos': 70.43415983385317, 'emoji': '♊️', 'point_type': 'House'},\n",
              " {'name': 'Second_House', 'quality': 'Cardinal', 'element': 'Water', 'sign': 'Can', 'sign_num': 3, 'position': 1.3172354841098013, 'abs_pos': 91.3172354841098, 'emoji': '♋️', 'point_type': 'House'},\n",
              " {'name': 'Third_House', 'quality': 'Cardinal', 'element': 'Water', 'sign': 'Can', 'sign_num': 3, 'position': 19.677787298526482, 'abs_pos': 109.67778729852648, 'emoji': '♋️', 'point_type': 'House'},\n",
              " {'name': 'Fourth_House', 'quality': 'Fixed', 'element': 'Fire', 'sign': 'Leo', 'sign_num': 4, 'position': 10.095047249423601, 'abs_pos': 130.0950472494236, 'emoji': '♌️', 'point_type': 'House'},\n",
              " {'name': 'Fifth_House', 'quality': 'Mutable', 'element': 'Earth', 'sign': 'Vir', 'sign_num': 5, 'position': 7.640483272964275, 'abs_pos': 157.64048327296427, 'emoji': '♍️', 'point_type': 'House'},\n",
              " {'name': 'Sixth_House', 'quality': 'Cardinal', 'element': 'Air', 'sign': 'Lib', 'sign_num': 6, 'position': 19.75740901547482, 'abs_pos': 199.75740901547482, 'emoji': '♎️', 'point_type': 'House'},\n",
              " {'name': 'Seventh_House', 'quality': 'Mutable', 'element': 'Fire', 'sign': 'Sag', 'sign_num': 8, 'position': 10.434159833853187, 'abs_pos': 250.4341598338532, 'emoji': '♐️', 'point_type': 'House'},\n",
              " {'name': 'Eighth_House', 'quality': 'Cardinal', 'element': 'Earth', 'sign': 'Cap', 'sign_num': 9, 'position': 1.3172354841098013, 'abs_pos': 271.3172354841098, 'emoji': '♑️', 'point_type': 'House'},\n",
              " {'name': 'Ninth_House', 'quality': 'Cardinal', 'element': 'Earth', 'sign': 'Cap', 'sign_num': 9, 'position': 19.677787298526482, 'abs_pos': 289.6777872985265, 'emoji': '♑️', 'point_type': 'House'},\n",
              " {'name': 'Tenth_House', 'quality': 'Fixed', 'element': 'Air', 'sign': 'Aqu', 'sign_num': 10, 'position': 10.095047249423601, 'abs_pos': 310.0950472494236, 'emoji': '♒️', 'point_type': 'House'},\n",
              " {'name': 'Eleventh_House', 'quality': 'Mutable', 'element': 'Water', 'sign': 'Pis', 'sign_num': 11, 'position': 7.640483272964332, 'abs_pos': 337.64048327296433, 'emoji': '♓️', 'point_type': 'House'},\n",
              " {'name': 'Twelfth_House', 'quality': 'Cardinal', 'element': 'Fire', 'sign': 'Ari', 'sign_num': 0, 'position': 19.757409015474817, 'abs_pos': 19.757409015474817, 'emoji': '♈️', 'point_type': 'House'}]"
            ]
          },
          "metadata": {},
          "execution_count": 9
        }
      ]
    },
    {
      "cell_type": "code",
      "source": [
        "person.planets_list"
      ],
      "metadata": {
        "colab": {
          "base_uri": "https://localhost:8080/"
        },
        "id": "c7FQ1D8p2GiE",
        "outputId": "27566904-1fdb-4dea-f194-c52ece1529bf"
      },
      "execution_count": 11,
      "outputs": [
        {
          "output_type": "execute_result",
          "data": {
            "text/plain": [
              "[{'name': 'Sun', 'quality': 'Cardinal', 'element': 'Earth', 'sign': 'Cap', 'sign_num': 9, 'position': 11.533774418095561, 'abs_pos': 281.53377441809556, 'emoji': '♑️', 'point_type': 'Planet', 'house': 'Ninth_House', 'retrograde': False},\n",
              " {'name': 'Moon', 'quality': 'Mutable', 'element': 'Water', 'sign': 'Pis', 'sign_num': 11, 'position': 29.46957044943582, 'abs_pos': 359.4695704494358, 'emoji': '♓️', 'point_type': 'Planet', 'house': 'Twelfth_House', 'retrograde': False},\n",
              " {'name': 'Mercury', 'quality': 'Cardinal', 'element': 'Earth', 'sign': 'Cap', 'sign_num': 9, 'position': 15.706448934455807, 'abs_pos': 285.7064489344558, 'emoji': '♑️', 'point_type': 'Planet', 'house': 'Ninth_House', 'retrograde': False},\n",
              " {'name': 'Venus', 'quality': 'Fixed', 'element': 'Air', 'sign': 'Aqu', 'sign_num': 10, 'position': 27.941112545575663, 'abs_pos': 327.94111254557566, 'emoji': '♒️', 'point_type': 'Planet', 'house': 'Eleventh_House', 'retrograde': False},\n",
              " {'name': 'Mars', 'quality': 'Fixed', 'element': 'Water', 'sign': 'Sco', 'sign_num': 7, 'position': 5.454058079333066, 'abs_pos': 215.45405807933307, 'emoji': '♏️', 'point_type': 'Planet', 'house': 'Sixth_House', 'retrograde': False},\n",
              " {'name': 'Jupiter', 'quality': 'Mutable', 'element': 'Air', 'sign': 'Gem', 'sign_num': 2, 'position': 2.120225889930019, 'abs_pos': 62.12022588993002, 'emoji': '♊️', 'point_type': 'Planet', 'house': 'First_House', 'retrograde': True},\n",
              " {'name': 'Saturn', 'quality': 'Fixed', 'element': 'Earth', 'sign': 'Tau', 'sign_num': 1, 'position': 24.553513452053267, 'abs_pos': 54.55351345205327, 'emoji': '♉️', 'point_type': 'Planet', 'house': 'First_House', 'retrograde': True},\n",
              " {'name': 'Uranus', 'quality': 'Fixed', 'element': 'Air', 'sign': 'Aqu', 'sign_num': 10, 'position': 18.693112436602178, 'abs_pos': 318.6931124366022, 'emoji': '♒️', 'point_type': 'Planet', 'house': 'Tenth_House', 'retrograde': False},\n",
              " {'name': 'Neptune', 'quality': 'Fixed', 'element': 'Air', 'sign': 'Aqu', 'sign_num': 10, 'position': 5.358332379137494, 'abs_pos': 305.3583323791375, 'emoji': '♒️', 'point_type': 'Planet', 'house': 'Tenth_House', 'retrograde': False},\n",
              " {'name': 'Pluto', 'quality': 'Mutable', 'element': 'Fire', 'sign': 'Sag', 'sign_num': 8, 'position': 13.79927201759142, 'abs_pos': 253.79927201759142, 'emoji': '♐️', 'point_type': 'Planet', 'house': 'Seventh_House', 'retrograde': False},\n",
              " {'name': 'Mean_Node', 'quality': 'Cardinal', 'element': 'Water', 'sign': 'Can', 'sign_num': 3, 'position': 15.638647197826614, 'abs_pos': 105.63864719782661, 'emoji': '♋️', 'point_type': 'Planet', 'house': 'Third_House', 'retrograde': True},\n",
              " {'name': 'True_Node', 'quality': 'Cardinal', 'element': 'Water', 'sign': 'Can', 'sign_num': 3, 'position': 15.524726102889105, 'abs_pos': 105.5247261028891, 'emoji': '♋️', 'point_type': 'Planet', 'house': 'Third_House', 'retrograde': False},\n",
              " {'name': 'Chiron', 'quality': 'Mutable', 'element': 'Fire', 'sign': 'Sag', 'sign_num': 8, 'position': 22.631542367435486, 'abs_pos': 262.6315423674355, 'emoji': '♐️', 'point_type': 'Planet', 'house': 'Eighth_House', 'retrograde': False}]"
            ]
          },
          "metadata": {},
          "execution_count": 11
        }
      ]
    },
    {
      "cell_type": "code",
      "source": [
        "person2.planets_list"
      ],
      "metadata": {
        "colab": {
          "base_uri": "https://localhost:8080/"
        },
        "id": "HNMjik0t2X8w",
        "outputId": "c6e65a57-a226-49f0-f7dd-51b7f17adc39"
      },
      "execution_count": 12,
      "outputs": [
        {
          "output_type": "execute_result",
          "data": {
            "text/plain": [
              "[{'name': 'Sun', 'quality': 'Cardinal', 'element': 'Earth', 'sign': 'Cap', 'sign_num': 9, 'position': 11.576246193267025, 'abs_pos': 281.576246193267, 'emoji': '♑️', 'point_type': 'Planet', 'house': 'Eighth_House', 'retrograde': False},\n",
              " {'name': 'Moon', 'quality': 'Mutable', 'element': 'Water', 'sign': 'Pis', 'sign_num': 11, 'position': 29.98212200431726, 'abs_pos': 359.98212200431726, 'emoji': '♓️', 'point_type': 'Planet', 'house': 'Eleventh_House', 'retrograde': False},\n",
              " {'name': 'Mercury', 'quality': 'Cardinal', 'element': 'Earth', 'sign': 'Cap', 'sign_num': 9, 'position': 15.774239154985025, 'abs_pos': 285.774239154985, 'emoji': '♑️', 'point_type': 'Planet', 'house': 'Eighth_House', 'retrograde': False},\n",
              " {'name': 'Venus', 'quality': 'Fixed', 'element': 'Air', 'sign': 'Aqu', 'sign_num': 10, 'position': 27.986997493140848, 'abs_pos': 327.98699749314085, 'emoji': '♒️', 'point_type': 'Planet', 'house': 'Tenth_House', 'retrograde': False},\n",
              " {'name': 'Mars', 'quality': 'Fixed', 'element': 'Water', 'sign': 'Sco', 'sign_num': 7, 'position': 5.478393739136038, 'abs_pos': 215.47839373913604, 'emoji': '♏️', 'point_type': 'Planet', 'house': 'Sixth_House', 'retrograde': False},\n",
              " {'name': 'Jupiter', 'quality': 'Mutable', 'element': 'Air', 'sign': 'Gem', 'sign_num': 2, 'position': 2.1169901317522246, 'abs_pos': 62.116990131752225, 'emoji': '♊️', 'point_type': 'Planet', 'house': 'Twelfth_House', 'retrograde': True},\n",
              " {'name': 'Saturn', 'quality': 'Fixed', 'element': 'Earth', 'sign': 'Tau', 'sign_num': 1, 'position': 24.551774523635082, 'abs_pos': 54.55177452363508, 'emoji': '♉️', 'point_type': 'Planet', 'house': 'Twelfth_House', 'retrograde': True},\n",
              " {'name': 'Uranus', 'quality': 'Fixed', 'element': 'Air', 'sign': 'Aqu', 'sign_num': 10, 'position': 18.69515209350442, 'abs_pos': 318.6951520935044, 'emoji': '♒️', 'point_type': 'Planet', 'house': 'Tenth_House', 'retrograde': False},\n",
              " {'name': 'Neptune', 'quality': 'Fixed', 'element': 'Air', 'sign': 'Aqu', 'sign_num': 10, 'position': 5.359805308881789, 'abs_pos': 305.3598053088818, 'emoji': '♒️', 'point_type': 'Planet', 'house': 'Ninth_House', 'retrograde': False},\n",
              " {'name': 'Pluto', 'quality': 'Mutable', 'element': 'Fire', 'sign': 'Sag', 'sign_num': 8, 'position': 13.800738705412925, 'abs_pos': 253.80073870541293, 'emoji': '♐️', 'point_type': 'Planet', 'house': 'Seventh_House', 'retrograde': False},\n",
              " {'name': 'Mean_Node', 'quality': 'Cardinal', 'element': 'Water', 'sign': 'Can', 'sign_num': 3, 'position': 15.636440113656988, 'abs_pos': 105.63644011365699, 'emoji': '♋️', 'point_type': 'Planet', 'house': 'Second_House', 'retrograde': True},\n",
              " {'name': 'True_Node', 'quality': 'Cardinal', 'element': 'Water', 'sign': 'Can', 'sign_num': 3, 'position': 15.524942900451762, 'abs_pos': 105.52494290045176, 'emoji': '♋️', 'point_type': 'Planet', 'house': 'Second_House', 'retrograde': False},\n",
              " {'name': 'Chiron', 'quality': 'Mutable', 'element': 'Fire', 'sign': 'Sag', 'sign_num': 8, 'position': 22.636195113534086, 'abs_pos': 262.6361951135341, 'emoji': '♐️', 'point_type': 'Planet', 'house': 'Seventh_House', 'retrograde': False}]"
            ]
          },
          "metadata": {},
          "execution_count": 12
        }
      ]
    },
    {
      "cell_type": "code",
      "source": [
        "from kerykeion import Report"
      ],
      "metadata": {
        "id": "tEDYURr72gcq"
      },
      "execution_count": 14,
      "outputs": []
    },
    {
      "cell_type": "code",
      "source": [
        "r = Report(person)"
      ],
      "metadata": {
        "id": "EbzpBGdj4dgP"
      },
      "execution_count": 15,
      "outputs": []
    },
    {
      "cell_type": "code",
      "source": [
        "r.get_planets_table()"
      ],
      "metadata": {
        "id": "ko9q5evr4rx5"
      },
      "execution_count": 19,
      "outputs": []
    },
    {
      "cell_type": "code",
      "source": [
        "r.print_report()"
      ],
      "metadata": {
        "colab": {
          "base_uri": "https://localhost:8080/"
        },
        "id": "JW1uQ69u4uYU",
        "outputId": "6e6a68b9-b29e-41ed-f03b-6a00e0378bac"
      },
      "execution_count": 18,
      "outputs": [
        {
          "output_type": "stream",
          "name": "stdout",
          "text": [
            "\n",
            "+- Kerykeion report for Abc -+\n",
            "+----------+-------+-------------+------------+----------+\n",
            "| Date     | Time  | Location    | Longitude  | Latitude |\n",
            "+----------+-------+-------------+------------+----------+\n",
            "| 1/1/2001 | 13:13 | Seattle, US | -122.33207 | 47.60621 |\n",
            "+----------+-------+-------------+------------+----------+\n",
            "+-----------+------+-------+------+----------------+\n",
            "| Planet    | Sign | Pos.  | Ret. | House          |\n",
            "+-----------+------+-------+------+----------------+\n",
            "| Sun       | Cap  | 11.53 | -    | Ninth_House    |\n",
            "| Moon      | Pis  | 29.47 | -    | Twelfth_House  |\n",
            "| Mercury   | Cap  | 15.71 | -    | Ninth_House    |\n",
            "| Venus     | Aqu  | 27.94 | -    | Eleventh_House |\n",
            "| Mars      | Sco  | 5.45  | -    | Sixth_House    |\n",
            "| Jupiter   | Gem  | 2.12  | R    | First_House    |\n",
            "| Saturn    | Tau  | 24.55 | R    | First_House    |\n",
            "| Uranus    | Aqu  | 18.69 | -    | Tenth_House    |\n",
            "| Neptune   | Aqu  | 5.36  | -    | Tenth_House    |\n",
            "| Pluto     | Sag  | 13.8  | -    | Seventh_House  |\n",
            "| Mean_Node | Can  | 15.64 | R    | Third_House    |\n",
            "| True_Node | Can  | 15.52 | -    | Third_House    |\n",
            "| Chiron    | Sag  | 22.63 | -    | Eighth_House   |\n",
            "+-----------+------+-------+------+----------------+\n",
            "+----------------+------+----------+\n",
            "| House          | Sign | Position |\n",
            "+----------------+------+----------+\n",
            "| First_House    | Tau  | 20.69    |\n",
            "| Second_House   | Gem  | 16.9     |\n",
            "| Third_House    | Can  | 6.31     |\n",
            "| Fourth_House   | Can  | 25.53    |\n",
            "| Fifth_House    | Leo  | 19.39    |\n",
            "| Sixth_House    | Vir  | 26.01    |\n",
            "| Seventh_House  | Sco  | 20.69    |\n",
            "| Eighth_House   | Sag  | 16.9     |\n",
            "| Ninth_House    | Cap  | 6.31     |\n",
            "| Tenth_House    | Cap  | 25.53    |\n",
            "| Eleventh_House | Aqu  | 19.39    |\n",
            "| Twelfth_House  | Pis  | 26.01    |\n",
            "+----------------+------+----------+\n"
          ]
        }
      ]
    },
    {
      "cell_type": "code",
      "source": [],
      "metadata": {
        "id": "X_Cp-BNA45Dh"
      },
      "execution_count": null,
      "outputs": []
    }
  ]
}